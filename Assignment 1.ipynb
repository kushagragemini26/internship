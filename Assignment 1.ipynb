{
 "cells": [
  {
   "cell_type": "markdown",
   "id": "970cff84",
   "metadata": {},
   "source": [
    "1.)Write a Python program to replace all occurrences of a space, comma, or dot with a colon.\n",
    "Sample Text- 'Python Exercises, PHP exercises.'\n",
    "Expected Output: Python:Exercises::PHP:exercises:\n"
   ]
  },
  {
   "cell_type": "code",
   "execution_count": 2,
   "id": "a2acc18e",
   "metadata": {},
   "outputs": [
    {
     "name": "stdout",
     "output_type": "stream",
     "text": [
      "Python:Exercises::PHP:exercises:\n"
     ]
    }
   ],
   "source": [
    "import re\n",
    "\n",
    "def replacech(text):\n",
    "  patterns = '[ ,.]'\n",
    "  replacement = ':'\n",
    "  return re.sub(patterns, replacement, text)\n",
    "\n",
    "text = 'Python Exercises, PHP exercises.'\n",
    "\n",
    "print(replacech(text))\n",
    "\n"
   ]
  },
  {
   "cell_type": "markdown",
   "id": "81294fba",
   "metadata": {},
   "source": [
    "2.)Write a Python program to find all words starting with 'a' or 'e' in a given string."
   ]
  },
  {
   "cell_type": "code",
   "execution_count": 3,
   "id": "d5dc3fc4",
   "metadata": {},
   "outputs": [
    {
     "name": "stdout",
     "output_type": "stream",
     "text": [
      "['a', 'e', 'e', 'e', 'e', 'e', 'e', 'a', 'a', 'a', 'e', 'e', 'a', 'e', 'a', 'e', 'e', 'a', 'a']\n"
     ]
    }
   ],
   "source": [
    "import re \n",
    "pattern = '[ae]'\n",
    "\n",
    "string = \"Ayush is going on a Europe tour to explore different countries., Esha is a talented artist who creates beautiful paintings.\"\n",
    "x= re.findall(pattern, string)\n",
    "print(x)\n"
   ]
  },
  {
   "cell_type": "markdown",
   "id": "0410d93c",
   "metadata": {},
   "source": [
    "3.)Create a function in python to find all words that are at least 4 characters long in a string. The use of the re.compile() method is mandatory"
   ]
  },
  {
   "cell_type": "code",
   "execution_count": 4,
   "id": "85c6796e",
   "metadata": {},
   "outputs": [
    {
     "name": "stdout",
     "output_type": "stream",
     "text": [
      "['Ayush', 'going', 'Europe', 'tour', 'explore', 'different', 'countries', 'Esha', 'talented', 'artist', 'creates', 'beautiful', 'paintings']\n"
     ]
    }
   ],
   "source": [
    "import re\n",
    "\n",
    "def words(text):\n",
    "  pattern = re.compile(r\"\\b\\w{4,}\\b\")\n",
    "  return pattern.findall(text)\n",
    "\n",
    "\n",
    "text = \"Ayush is going on a Europe tour to explore different countries., Esha is a talented artist who creates beautiful paintings\"\n",
    "\n",
    "x = words(text)\n",
    "\n",
    "print(x)\n"
   ]
  },
  {
   "cell_type": "markdown",
   "id": "0a186eec",
   "metadata": {},
   "source": [
    "4.)Create a function in python to find all three, four, and five character words in a string. The use of the re.compile() method is mandatory."
   ]
  },
  {
   "cell_type": "code",
   "execution_count": 5,
   "id": "92834872",
   "metadata": {},
   "outputs": [
    {
     "name": "stdout",
     "output_type": "stream",
     "text": [
      "['Shyam', 'good', 'and']\n"
     ]
    }
   ],
   "source": [
    "import re\n",
    "\n",
    "def words(text):\n",
    "  pattern = re.compile(r\"\\b\\w{3,5}\\b\")\n",
    "  return pattern.findall(text)\n",
    "\n",
    "\n",
    "text = \"Shyam is a good bolwer and fielder.\"\n",
    "\n",
    "x = words(text)\n",
    "\n",
    "print(x)\n"
   ]
  },
  {
   "cell_type": "markdown",
   "id": "24b3ddf5",
   "metadata": {},
   "source": [
    "5.)Create a function in Python to remove the parenthesis in a list of strings. The use of the re.compile() method is mandatory.\n",
    "Sample Text: [\"example (.com)\", \"hr@fliprobo (.com)\", \"github (.com)\", \"Hello (Data Science World)\", \"Data (Scientist)\"]\n",
    "Expected Output:\n",
    "example.com\n",
    "hr@fliprobo.com\n",
    "github.com\n",
    "Hello Data Science World\n",
    "Data Scientist\n"
   ]
  },
  {
   "cell_type": "code",
   "execution_count": 32,
   "id": "9fac1136",
   "metadata": {},
   "outputs": [
    {
     "name": "stdout",
     "output_type": "stream",
     "text": [
      "['example .com', 'hr@fliprobo .com', 'github .com', 'Hello Data Science World', 'Data Scientist']\n"
     ]
    }
   ],
   "source": [
    "import re\n",
    "\n",
    "def remove(strings):\n",
    "    pattern = re.compile(r'\\((.*?)\\)')\n",
    "    x = [pattern.sub(r'\\1', item) for item in strings]\n",
    "    return x\n",
    "\n",
    "sampletext = [\"example (.com)\", \"hr@fliprobo (.com)\", \"github (.com)\", \"Hello (Data Science World)\", \"Data (Scientist)\"]\n",
    "\n",
    "z = remove(sampletext)\n",
    "print(z)\n"
   ]
  },
  {
   "cell_type": "markdown",
   "id": "d8f312dc",
   "metadata": {},
   "source": [
    "6.)- Write a python program to remove the parenthesis area from the text stored in the text file using Regular Expression.\n",
    "Sample Text: [\"example (.com)\", \"hr@fliprobo (.com)\", \"github (.com)\", \"Hello (Data Science World)\", \"Data (Scientist)\"]\n",
    "Expected Output: [\"example\", \"hr@fliprobo\", \"github\", \"Hello\", \"Data\"]\n"
   ]
  },
  {
   "cell_type": "code",
   "execution_count": 6,
   "id": "17aacecd",
   "metadata": {},
   "outputs": [
    {
     "name": "stdout",
     "output_type": "stream",
     "text": [
      "example\n",
      "hr@fliprobo\n",
      "github\n",
      "Hello\n",
      "Data\n"
     ]
    }
   ],
   "source": [
    "import re\n",
    "text =  [\"example (.com)\", \"hr@fliprobo (.com)\", \"github (.com)\", \"Hello (Data Science World)\", \"Data (Scientist)\"]\n",
    "for x in text:\n",
    "    print(re.sub(r\" ?\\([^)]+\\)\", \"\", x))\n"
   ]
  },
  {
   "cell_type": "markdown",
   "id": "2290c523",
   "metadata": {},
   "source": [
    "7.)Write a regular expression in Python to split a string into uppercase letters.\n",
    "Sample text: “ImportanceOfRegularExpressionsInPython”\n",
    "Expected Output: [‘Importance’, ‘Of’, ‘Regular’, ‘Expression’, ‘In’, ‘Python’]\n"
   ]
  },
  {
   "cell_type": "code",
   "execution_count": 7,
   "id": "b743af1d",
   "metadata": {},
   "outputs": [
    {
     "name": "stdout",
     "output_type": "stream",
     "text": [
      "['Importance', 'Of', 'Regular', 'Expressions', 'In', 'Python']\n"
     ]
    }
   ],
   "source": [
    "import re\n",
    "\n",
    "text = \"ImportanceOfRegularExpressionsInPython\"\n",
    "x = re.findall(r'[A-Z][a-z]*',text)\n",
    "\n",
    "print(x)"
   ]
  },
  {
   "cell_type": "markdown",
   "id": "89975ac7",
   "metadata": {},
   "source": [
    "8.)Create a function in python to insert spaces between words starting with numbers.\n",
    "Sample Text: “RegularExpression1IsAn2ImportantTopic3InPython\"\n",
    "Expected Output: RegularExpression 1IsAn 2ImportantTopic 3InPython\n"
   ]
  },
  {
   "cell_type": "code",
   "execution_count": 1,
   "id": "9079603c",
   "metadata": {},
   "outputs": [
    {
     "name": "stdout",
     "output_type": "stream",
     "text": [
      "RegularExpression 1IsAn 2ImportantTopic 3InPython\n"
     ]
    }
   ],
   "source": [
    "import re\n",
    "\n",
    "def spaces(text):\n",
    "    x= re.sub(r'([0-9])([a-z])', r'\\1 \\2', text)\n",
    "    x = re.sub(r'([a-z])([0-9])', r'\\1 \\2', x)\n",
    "    return x\n",
    "\n",
    "sampletext = \"RegularExpression1IsAn2ImportantTopic3InPython\"\n",
    "z = spaces(sampletext)\n",
    "print(z)"
   ]
  },
  {
   "cell_type": "markdown",
   "id": "4bc2006e",
   "metadata": {},
   "source": [
    "9.)- Create a function in python to insert spaces between words starting with capital letters or with numbers.\n",
    "Sample Text: “RegularExpression1IsAn2ImportantTopic3InPython\"\n",
    "Expected Output:  RegularExpression 1 IsAn 2 ImportantTopic 3 InPython\n"
   ]
  },
  {
   "cell_type": "code",
   "execution_count": 33,
   "id": "7c2a789e",
   "metadata": {},
   "outputs": [
    {
     "name": "stdout",
     "output_type": "stream",
     "text": [
      "RegularExpression 1 IsAn 2 ImportantTopic 3 InPython\n"
     ]
    }
   ],
   "source": [
    "import re\n",
    "\n",
    "def spaces(text):\n",
    "    x= re.sub(r'([0-9])([A-Z])', r' \\1 \\2', text)\n",
    "    x = re.sub(r'([A-Z])([0-9])', r' \\1 \\2', x)\n",
    "    return x\n",
    "\n",
    "sampletext = \"RegularExpression1IsAn2ImportantTopic3InPython\"\n",
    "z = spaces(sampletext)\n",
    "print(z)"
   ]
  },
  {
   "cell_type": "markdown",
   "id": "a26754e5",
   "metadata": {},
   "source": [
    "10.)Write a python program to extract email address from the text stored in the text file using Regular Expression.\n",
    "Sample Text- Hello my name is Data Science and my email address is xyz@domain.com and alternate email address is xyz.abc@sdomain.domain.com. \n",
    "Please contact us at hr@fliprobo.com for further information. \n",
    "Expected Output: \n",
    "['xyz@domain.com', 'xyz.abc@sdomain.domain.com']\n",
    "['hr@fliprobo.com']\n"
   ]
  },
  {
   "cell_type": "code",
   "execution_count": 8,
   "id": "9ecb25ab",
   "metadata": {},
   "outputs": [
    {
     "name": "stdout",
     "output_type": "stream",
     "text": [
      "['xyz@domain.com', 'xyz.abc@sdomain.domain.com', 'hr@fliprobo.com']\n"
     ]
    }
   ],
   "source": [
    "import re\n",
    "\n",
    "a = \"\"\"\"Hello my name is Data Science and my email address is xyz@domain.com and alternate email address is xyz.abc@sdomain.domain.com . \n",
    "Please contact us at hr@fliprobo.com for further information\"\"\"\n",
    "\n",
    "x = re.findall('\\S+@\\S+', a)\t\n",
    "\n",
    "print(x)"
   ]
  },
  {
   "cell_type": "markdown",
   "id": "ab933e57",
   "metadata": {},
   "source": [
    "11.)Write a Python program to match a string that contains only upper and lowercase letters, numbers, and underscores."
   ]
  },
  {
   "cell_type": "code",
   "execution_count": 9,
   "id": "d697bc13",
   "metadata": {},
   "outputs": [
    {
     "name": "stdout",
     "output_type": "stream",
     "text": [
      "Not matched\n",
      "match\n"
     ]
    }
   ],
   "source": [
    "import re\n",
    "def match(text):\n",
    "        patterns = '^[a-zA-Z0-9_]+$'\n",
    "        if re.search(patterns,  text):\n",
    "                return 'match'\n",
    "        else:\n",
    "                return('Not matched')\n",
    "\n",
    "print(match(\"Ram is a good singer\"))\n",
    "print(match(\"Jiva\"))"
   ]
  },
  {
   "cell_type": "markdown",
   "id": "a24485a7",
   "metadata": {},
   "source": [
    "12.)Write a Python program where a string will start with a specific number."
   ]
  },
  {
   "cell_type": "code",
   "execution_count": 10,
   "id": "f5420b79",
   "metadata": {},
   "outputs": [
    {
     "name": "stdout",
     "output_type": "stream",
     "text": [
      "True\n",
      "False\n"
     ]
    }
   ],
   "source": [
    "import re\n",
    "\n",
    "def number(text):\n",
    "  pattern = r\"^\\d\"\n",
    "  match = re.match(pattern, text)\n",
    "\n",
    "  return bool(match)\n",
    "\n",
    "print(number(\"123abc\"))\n",
    "print(number(\"abc123\"))\n"
   ]
  },
  {
   "cell_type": "markdown",
   "id": "6acd52b3",
   "metadata": {},
   "source": [
    "13.)- Write a Python program to remove leading zeros from an IP address"
   ]
  },
  {
   "cell_type": "code",
   "execution_count": 11,
   "id": "50dc0ed3",
   "metadata": {},
   "outputs": [
    {
     "name": "stdout",
     "output_type": "stream",
     "text": [
      "4548.254.365.214\n"
     ]
    }
   ],
   "source": [
    " import re\n",
    "ip = \"4548.0254.0365.214\"\n",
    "x= re.sub('\\.[0]*', '.', ip)\n",
    "print(x)"
   ]
  },
  {
   "cell_type": "markdown",
   "id": "21371c35",
   "metadata": {},
   "source": [
    "14.)Write a regular expression in python to match a date string in the form of Month name followed by day number and year stored in a text file.\n",
    "Sample text :  ' On August 15th 1947 that India was declared independent from British colonialism, and the reins of control were handed over to the leaders of the Country’.\n",
    "Expected Output- August 15th 1947\n",
    "Note- Store given sample text in the text file and then extract the date string asked format\n"
   ]
  },
  {
   "cell_type": "code",
   "execution_count": 12,
   "id": "8eb37fe4",
   "metadata": {},
   "outputs": [
    {
     "name": "stdout",
     "output_type": "stream",
     "text": [
      "August 15th 1947\n"
     ]
    }
   ],
   "source": [
    "import re\n",
    "\n",
    "text = \"On August 15th 1947 that India was declared independent from British colonialism, and the reins of control were handed over to the leaders of the Country.\"\n",
    "pattern = r'\\b([A-Z][a-z]+ \\d{1,2}(?:st|nd|rd|th) \\d{4})\\b'\n",
    "\n",
    "matches = re.findall(pattern, text)\n",
    "if matches:\n",
    "    print(matches[0])  # The first match found in the text\n",
    "else:\n",
    "    print(\"No matching date found.\")"
   ]
  },
  {
   "cell_type": "markdown",
   "id": "26756506",
   "metadata": {},
   "source": [
    "15.)Write a Python program to search some literals strings in a string. \n",
    "Sample text : 'The quick brown fox jumps over the lazy dog.'\n",
    "Searched words : 'fox', 'dog', 'horse'\n"
   ]
  },
  {
   "cell_type": "code",
   "execution_count": 1,
   "id": "5988e444",
   "metadata": {},
   "outputs": [
    {
     "name": "stdout",
     "output_type": "stream",
     "text": [
      "\"fox\" \"'The quick brown fox jumps over the lazy dog.'\" ->\n",
      "Match!\n",
      "\"dog\" \"'The quick brown fox jumps over the lazy dog.'\" ->\n",
      "Match!\n",
      "\"horse\" \"'The quick brown fox jumps over the lazy dog.'\" ->\n",
      "Not Match!\n"
     ]
    }
   ],
   "source": [
    "import re\n",
    "\n",
    "text = 'The quick brown fox jumps over the lazy dog.'\n",
    "patterns = [ 'fox', 'dog', 'horse' ]\n",
    "\n",
    "for pattern in patterns:\n",
    "    print('\"%s\" \"%a\" ->' % (pattern, text),)\n",
    "    if re.search(pattern,  text):\n",
    "        print('Match!')\n",
    "    else:\n",
    "        print('Not Match!')"
   ]
  },
  {
   "cell_type": "markdown",
   "id": "d55fffca",
   "metadata": {},
   "source": [
    "16.)Write a Python program to search a literals string in a string and also find the location within the original string where the pattern occurs\n",
    "Sample text : 'The quick brown fox jumps over the lazy dog.'\n",
    "Searched words : 'fox'"
   ]
  },
  {
   "cell_type": "code",
   "execution_count": 5,
   "id": "298ba761",
   "metadata": {},
   "outputs": [
    {
     "name": "stdout",
     "output_type": "stream",
     "text": [
      "\"fox\" \"The quick brown fox jumps over the lazy dog.\" from 16 to 19 \n"
     ]
    }
   ],
   "source": [
    "import re\n",
    "pattern = 'fox'\n",
    "text = 'The quick brown fox jumps over the lazy dog.'\n",
    "match = re.search(pattern, text)\n",
    "x = match.start()\n",
    "y = match.end()\n",
    "print('\"%s\" \"%s\" from %d to %d ' % \\\n",
    "    (match.re.pattern, match.string, x, y))"
   ]
  },
  {
   "cell_type": "markdown",
   "id": "19ce2b2d",
   "metadata": {},
   "source": [
    "17.)- Write a Python program to find the substrings within a string.\n",
    "Sample text : 'Python exercises, PHP exercises, C# exercises'\n",
    "Pattern : 'exercises'."
   ]
  },
  {
   "cell_type": "code",
   "execution_count": 6,
   "id": "7cf09a04",
   "metadata": {},
   "outputs": [
    {
     "name": "stdout",
     "output_type": "stream",
     "text": [
      "\"exercises\"\n",
      "\"exercises\"\n",
      "\"exercises\"\n"
     ]
    }
   ],
   "source": [
    "import re\n",
    "text = 'Python exercises, PHP exercises, C# exercises'\n",
    "pattern = 'exercises'\n",
    "for match in re.findall(pattern, text):\n",
    "    print('\"%s\"' % match)"
   ]
  },
  {
   "cell_type": "markdown",
   "id": "1b204862",
   "metadata": {},
   "source": [
    "18.)- Write a Python program to find the occurrence and position of the substrings within a string."
   ]
  },
  {
   "cell_type": "code",
   "execution_count": 7,
   "id": "6d3e51ad",
   "metadata": {},
   "outputs": [
    {
     "name": "stdout",
     "output_type": "stream",
     "text": [
      "Found \"catch\" at 20:25\n",
      "Found \"catch\" at 34:39\n",
      "Found \"catch\" at 62:67\n"
     ]
    }
   ],
   "source": [
    "import re\n",
    "text = 'Ashwin take a great catch, Sachin catch is good, MS is out by catch'\n",
    "pattern = 'catch'\n",
    "for match in re.finditer(pattern, text):\n",
    "    s = match.start()\n",
    "    e = match.end()\n",
    "    print('Found \"%s\" at %d:%d' % (text[s:e], s, e))"
   ]
  },
  {
   "cell_type": "markdown",
   "id": "b2975620",
   "metadata": {},
   "source": [
    "19.)Write a Python program to convert a date of yyyy-mm-dd format to dd-mm-yyyy format."
   ]
  },
  {
   "cell_type": "code",
   "execution_count": 8,
   "id": "45de16aa",
   "metadata": {},
   "outputs": [
    {
     "name": "stdout",
     "output_type": "stream",
     "text": [
      "Original  YYY-MM-DD Format:  2023-01-05\n",
      "New date DD-MM-YYYY Format:  05-01-2023\n"
     ]
    }
   ],
   "source": [
    "import re\n",
    "def changedate(x):\n",
    "        return re.sub(r'(\\d{4})-(\\d{1,2})-(\\d{1,2})', '\\\\3-\\\\2-\\\\1', x)\n",
    "x1 = \"2023-01-05\"\n",
    "print(\"Original  YYY-MM-DD Format: \",x1)\n",
    "print(\"New date DD-MM-YYYY Format: \",changedate(x1))"
   ]
  },
  {
   "cell_type": "markdown",
   "id": "57aa300d",
   "metadata": {},
   "source": [
    "20.)Create a function in python to find all decimal numbers with a precision of 1 or 2 in a string. The use of the re.compile() method is mandatory.\n",
    "Sample Text: \"01.12 0132.123 2.31875 145.8 3.01 27.25 0.25\"\n",
    "Expected Output: ['01.12', '145.8', '3.01', '27.25', '0.25']\n"
   ]
  },
  {
   "cell_type": "code",
   "execution_count": 10,
   "id": "b4026f84",
   "metadata": {},
   "outputs": [
    {
     "name": "stdout",
     "output_type": "stream",
     "text": [
      "['01.12', '145.8', '3.01', '27.25', '0.25']\n"
     ]
    }
   ],
   "source": [
    "import re\n",
    "\n",
    "def find(text):\n",
    "   \n",
    "    pattern = re.compile(r'\\b\\d+\\.\\d{1,2}\\b')\n",
    "\n",
    "    return pattern.findall(text)\n",
    "\n",
    "sampletext = \"01.12 0132.123 2.31875 145.8 3.01 27.25 0.25\"\n",
    "x = find(sampletext)\n",
    "print(x)\n"
   ]
  },
  {
   "cell_type": "markdown",
   "id": "1ac7b771",
   "metadata": {},
   "source": [
    "21.)Write a Python program to separate and print the numbers and their position of a given string."
   ]
  },
  {
   "cell_type": "code",
   "execution_count": 34,
   "id": "5ed0e533",
   "metadata": {},
   "outputs": [
    {
     "name": "stdout",
     "output_type": "stream",
     "text": [
      "4\n",
      "Index position: 167\n",
      "3\n",
      "Index position: 169\n"
     ]
    }
   ],
   "source": [
    "import re\n",
    "\n",
    "text = \"During the intense penalty shootout, the goalkeeper's heroic dive saved the opponent's shot, setting the stage for our team to clinch victory with a decisive score of 4-3, sending waves of celebration through the crowd.\"\n",
    "\n",
    "for x in re.finditer(\"\\d+\", text):\n",
    "    print(x.group(0))\n",
    "    print(\"Index position:\", x.start())"
   ]
  },
  {
   "cell_type": "markdown",
   "id": "9512ceb8",
   "metadata": {},
   "source": [
    "22.)Write a regular expression in python program to extract maximum/largest numeric value from a string.\n",
    "Sample Text:  'My marks in each semester are: 947, 896, 926, 524, 734, 950, 642'\n",
    "Expected Output: 950\n"
   ]
  },
  {
   "cell_type": "code",
   "execution_count": 12,
   "id": "a499a06e",
   "metadata": {},
   "outputs": [
    {
     "name": "stdout",
     "output_type": "stream",
     "text": [
      "950\n"
     ]
    }
   ],
   "source": [
    "import re\n",
    "\n",
    "def number(text):\n",
    " \n",
    "  pattern = r\"\\d+\"\n",
    "  matches = re.findall(pattern, text)\n",
    "  x = None\n",
    "\n",
    "  for match in matches:\n",
    "    number = int(match)\n",
    "    if x is None or number > x:\n",
    "      x = number\n",
    "  return x\n",
    "\n",
    "text = \"My marks in each semester are: 947, 896, 926, 524, 734, 950, 642\"\n",
    "\n",
    "x = number(text)\n",
    "\n",
    "print(x)"
   ]
  },
  {
   "cell_type": "markdown",
   "id": "7c313c4c",
   "metadata": {},
   "source": [
    "23.)Create a function in python to insert spaces between words starting with capital letters.\n",
    "Sample Text: “RegularExpressionIsAnImportantTopicInPython\"\n",
    "Expected Output: Regular Expression Is An Important Topic In Python\n"
   ]
  },
  {
   "cell_type": "code",
   "execution_count": 13,
   "id": "9a382589",
   "metadata": {},
   "outputs": [
    {
     "name": "stdout",
     "output_type": "stream",
     "text": [
      "Regular Expression Is An Important Topic In Python\n"
     ]
    }
   ],
   "source": [
    "import re\n",
    "\n",
    "def spaces(text):\n",
    "    modified = re.sub(r'([a-z])([A-Z])', r'\\1 \\2', text)\n",
    "    return modified\n",
    "\n",
    "text = \"RegularExpressionIsAnImportantTopicInPython\"\n",
    "x= spaces(text)\n",
    "print(x)"
   ]
  },
  {
   "cell_type": "markdown",
   "id": "77eb47da",
   "metadata": {},
   "source": [
    "24.)Python regex to find sequences of one upper case letter followed by lower case letters"
   ]
  },
  {
   "cell_type": "code",
   "execution_count": 15,
   "id": "1427afac",
   "metadata": {},
   "outputs": [
    {
     "name": "stdout",
     "output_type": "stream",
     "text": [
      "['Rupali', 'Xyhzz']\n"
     ]
    }
   ],
   "source": [
    "import re\n",
    "\n",
    "pattern = r\"[A-Z]\\w+\"\n",
    "\n",
    "text = \"Rupali plays very well. Xyhzz\"\n",
    "\n",
    "x = re.findall(pattern, text)\n",
    "\n",
    "print(x)\n"
   ]
  },
  {
   "cell_type": "markdown",
   "id": "6ef851b2",
   "metadata": {},
   "source": [
    "25.)- Write a Python program to remove continuous duplicate words from Sentence using Regular Expression.\n",
    "Sample Text: \"Hello hello world world\"\n",
    "Expected Output: Hello hello world\n"
   ]
  },
  {
   "cell_type": "code",
   "execution_count": 16,
   "id": "9fec298d",
   "metadata": {},
   "outputs": [
    {
     "name": "stdout",
     "output_type": "stream",
     "text": [
      "Hello hello world\n"
     ]
    }
   ],
   "source": [
    "import re\n",
    "\n",
    "def remove(text):\n",
    "    \n",
    "  pattern = r\"\\b(\\w+)(?:\\s+\\1)+\\b\"\n",
    "  x = re.sub(pattern, r\"\\1\", text)\n",
    "  return x\n",
    "\n",
    "text = \"Hello hello world world\"\n",
    "\n",
    "x = remove(text)\n",
    "\n",
    "print(x)"
   ]
  },
  {
   "cell_type": "markdown",
   "id": "913ec580",
   "metadata": {},
   "source": [
    "26.)Write a python program using RegEx to accept string ending with alphanumeric character."
   ]
  },
  {
   "cell_type": "code",
   "execution_count": 18,
   "id": "52d6f8ce",
   "metadata": {},
   "outputs": [
    {
     "name": "stdout",
     "output_type": "stream",
     "text": [
      "\"Shyam is a great dancer\" ends with an alphanumeric character.\n",
      "\"No!\" does not end with an alphanumeric character.\n"
     ]
    }
   ],
   "source": [
    "import re\n",
    "\n",
    "def alphanum(x):\n",
    "    pattern = r'\\w$'  \n",
    "    return bool(re.search(pattern, x))\n",
    "\n",
    "test = [\"Shyam is a great dancer\",\"No!\"]\n",
    "\n",
    "for x in test:\n",
    "    if alphanum(x):\n",
    "        print(f'\"{x}\" ends with an alphanumeric character.')\n",
    "    else:\n",
    "        print(f'\"{x}\" does not end with an alphanumeric character.')"
   ]
  },
  {
   "cell_type": "markdown",
   "id": "c52cc278",
   "metadata": {},
   "source": [
    "27.)Write a python program using RegEx to extract the hashtags.\n",
    "Sample Text:  \"\"\"RT @kapil_kausik: #Doltiwal I mean #xyzabc is \"hurt\" by #Demonetization as the same has rendered USELESS <ed><U+00A0><U+00BD><ed><U+00B1><U+0089> \"acquired funds\" No wo\"\"\"\n",
    "Expected Output: ['#Doltiwal', '#xyzabc', '#Demonetization']\n"
   ]
  },
  {
   "cell_type": "code",
   "execution_count": 22,
   "id": "dc6ba044",
   "metadata": {},
   "outputs": [
    {
     "name": "stdout",
     "output_type": "stream",
     "text": [
      "['#Doltiwal', '#xyzabc', '#Demonetization']\n"
     ]
    }
   ],
   "source": [
    "import re\n",
    "\n",
    "def hashtags(text):\n",
    "  \n",
    "  pattern = r\"#\\w+\"\n",
    "  text = \"\"\"RT @kapil_kausik: #Doltiwal I mean #xyzabc is \"hurt\" by #Demonetization as the same has rendered USELESS <ed><U+00A0><U+00BD><ed><U+00B1><U+0089> \"acquired funds\" No wo\"\"\"\n",
    "\n",
    "    \n",
    "  matches = re.findall(pattern, text)\n",
    "\n",
    "  x = []\n",
    "    \n",
    "  for match in matches:\n",
    "    x.append(match)\n",
    "  return x\n",
    "\n",
    "x = hashtags(text)\n",
    "print(x)"
   ]
  },
  {
   "cell_type": "markdown",
   "id": "7eb1d9fe",
   "metadata": {},
   "source": [
    "28.)Write a python program using RegEx to remove <U+..> like symbols\n",
    "Check the below sample text, there are strange symbols something of the sort <U+..> all over the place. You need to come up with a general Regex expression that will cover all such symbols.\n",
    "Sample Text: \"@Jags123456 Bharat band on 28??<ed><U+00A0><U+00BD><ed><U+00B8><U+0082>Those who  are protesting #demonetization  are all different party leaders\"\n",
    "Expected Output: @Jags123456 Bharat band on 28??<ed><ed>Those who  are protesting #demonetization  are all different party leaders\n"
   ]
  },
  {
   "cell_type": "code",
   "execution_count": 23,
   "id": "918716d0",
   "metadata": {},
   "outputs": [
    {
     "name": "stdout",
     "output_type": "stream",
     "text": [
      "@Jags123456 Bharat band on 28??<ed><ed>Those who  are protesting #demonetization  are all different party leaders\n"
     ]
    }
   ],
   "source": [
    "import re\n",
    "\n",
    "def removesymbols(text):\n",
    " \n",
    "  pattern = r\"<U\\+[0-9A-F]{4}>\"\n",
    "  text = \"@Jags123456 Bharat band on 28??<ed><U+00A0><U+00BD><ed><U+00B8><U+0082>Those who  are protesting #demonetization  are all different party leaders\"\n",
    "\n",
    "  return re.sub(pattern, \"\", text)\n",
    "\n",
    "x = removesymbols(text)\n",
    "\n",
    "print(x)"
   ]
  },
  {
   "cell_type": "markdown",
   "id": "55fe978d",
   "metadata": {},
   "source": [
    "29.)Write a python program to extract dates from the text stored in the text file.\n",
    "Sample Text: Ron was born on 12-09-1992 and he was admitted to school 15-12-1999.\n"
   ]
  },
  {
   "cell_type": "code",
   "execution_count": 25,
   "id": "6f8de92d",
   "metadata": {},
   "outputs": [
    {
     "name": "stdout",
     "output_type": "stream",
     "text": [
      "['12-09-1992', '15-12-1999']\n"
     ]
    }
   ],
   "source": [
    "import re\n",
    "\n",
    "def extractdates(text):\n",
    "  \n",
    "  pattern = r\"\\d{2}-\\d{2}-\\d{4}\"\n",
    "  text = \"Ron was born on 12-09-1992 and he was admitted to school 15-12-1999.\"\n",
    "  matches = re.findall(pattern, text)\n",
    "\n",
    "  dates = []\n",
    "\n",
    "  for match in matches:\n",
    "    dates.append(match)\n",
    "\n",
    "  return dates\n",
    "\n",
    "x = extractdates(text)\n",
    "\n",
    "print(x)\n"
   ]
  },
  {
   "cell_type": "markdown",
   "id": "664ffc16",
   "metadata": {},
   "source": [
    "30.)Create a function in python to remove all words from a string of length between 2 and 4.\n",
    "The use of the re.compile() method is mandatory.\n",
    "Sample Text: \"The following example creates an ArrayList with a capacity of 50 elements. 4 elements are then added to the ArrayList and the ArrayList is trimmed accordingly.\"\n",
    "Expected Output:  following example creates ArrayList a capacity elements. 4 elements added ArrayList ArrayList trimmed accordingly.\n"
   ]
  },
  {
   "cell_type": "code",
   "execution_count": 29,
   "id": "0673d6d8",
   "metadata": {},
   "outputs": [
    {
     "name": "stdout",
     "output_type": "stream",
     "text": [
      " following example creates  ArrayList  a capacity   elements. 4 elements   added   ArrayList   ArrayList  trimmed accordingly.\n"
     ]
    }
   ],
   "source": [
    "import re\n",
    "\n",
    "def removelength(text, min_length, max_length):\n",
    "  \n",
    "\n",
    "  pattern = re.compile(r\"\\b\\w{2,4}\\b\")\n",
    "  text = \"The following example creates an ArrayList with a capacity of 50 elements. 4 elements are then added to the ArrayList and the ArrayList is trimmed accordingly.\"\n",
    "\n",
    "  return re.sub(pattern,\"\",text)\n",
    "\n",
    "print(removelength(text, 2, 4))\n"
   ]
  },
  {
   "cell_type": "code",
   "execution_count": null,
   "id": "3b33e5a1",
   "metadata": {},
   "outputs": [],
   "source": []
  }
 ],
 "metadata": {
  "kernelspec": {
   "display_name": "Python 3 (ipykernel)",
   "language": "python",
   "name": "python3"
  },
  "language_info": {
   "codemirror_mode": {
    "name": "ipython",
    "version": 3
   },
   "file_extension": ".py",
   "mimetype": "text/x-python",
   "name": "python",
   "nbconvert_exporter": "python",
   "pygments_lexer": "ipython3",
   "version": "3.9.13"
  }
 },
 "nbformat": 4,
 "nbformat_minor": 5
}
