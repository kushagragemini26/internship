{
 "cells": [
  {
   "cell_type": "code",
   "execution_count": 43,
   "id": "680847da",
   "metadata": {},
   "outputs": [],
   "source": [
    "import  selenium \n",
    "import pandas as pd\n",
    "from selenium import webdriver\n",
    "import warnings\n",
    "warnings.filterwarnings('ignore')\n",
    "from selenium.webdriver.common.by import By\n",
    "import requests \n",
    "import time\n",
    "from selenium.common.exceptions import NoSuchElementException"
   ]
  },
  {
   "cell_type": "code",
   "execution_count": 55,
   "id": "31222dbf",
   "metadata": {},
   "outputs": [],
   "source": [
    "driver = webdriver.Chrome()"
   ]
  },
  {
   "cell_type": "code",
   "execution_count": 56,
   "id": "f22aebe8",
   "metadata": {},
   "outputs": [],
   "source": [
    "driver.get(\"https://www.flipkart.com/search?q=smartphone&otracker=search&otracker1=search&marketplace=FLIPKART&as-show=on&as=off\")"
   ]
  },
  {
   "cell_type": "code",
   "execution_count": 63,
   "id": "e5f5d2d2",
   "metadata": {},
   "outputs": [],
   "source": [
    "Brand_Name=[]\n",
    "Colour=[]\n",
    "Storage_RAM_ROM=[]\n",
    "PF_Camera=[]\n",
    "Display_size_Resolution=[]\n",
    "ProcessorAndCores=[]\n",
    "Battery=[]\n",
    "Price=[]\n",
    "Product_URL=[]"
   ]
  },
  {
   "cell_type": "code",
   "execution_count": 64,
   "id": "30a189da",
   "metadata": {},
   "outputs": [
    {
     "name": "stdout",
     "output_type": "stream",
     "text": [
      "24 ['MOTOROLA G32 (Mineral Gray, 128 GB)', 'SAMSUNG Galaxy F04 (Opal Green, 64 GB)', 'OnePlus Nord CE 2 Lite 5G (Blue Tide, 128 GB)', 'MOTOROLA e13 (Aurora Green, 64 GB)', 'Infinix SMART 7 (Azure Blue, 64 GB)', 'POCO M5 (Icy Blue, 64 GB)', 'Infinix Note 30 5G (Sunset Gold, 128 GB)', 'Infinix SMART 7 (Emerald Green, 64 GB)', 'MOTOROLA G32 (Satin Silver, 128 GB)', 'Infinix SMART 7 (Night Black, 64 GB)', 'Infinix SMART 7 (Azure Blue, 128 GB)', 'Infinix HOT 30i (Glacier Blue, 128 GB)', 'Infinix HOT 30i (Diamond White, 128 GB)', 'SAMSUNG Galaxy F13 (Waterfall Blue, 64 GB)', 'Infinix HOT 30i (Diamond White, 64 GB)', 'Infinix HOT 30i (Marigold, 64 GB)', 'Infinix HOT 30i (Glacier Blue, 64 GB)', 'Infinix HOT 30i (Mirror Black, 128 GB)', 'Infinix HOT 30i (Mirror Black, 64 GB)', 'SAMSUNG Galaxy F04 (Jade Purple, 64 GB)', 'MOTOROLA Edge 40 Neo (Black Beauty, 256 GB)', 'MOTOROLA e13 (Aurora Green, 128 GB)', 'OnePlus Nord CE 3 Lite 5G (Chromatic Gray, 256 GB)', 'OnePlus Nord CE 2 Lite 5G (Black Dusk, 128 GB)']\n"
     ]
    }
   ],
   "source": [
    "#scaping brand name\n",
    "BName=driver.find_elements(By.XPATH,'//div[@class=\"_4rR01T\"]')\n",
    "for i in BName:\n",
    "    if i.text is None :\n",
    "        Brand_Name.append(\"--\") \n",
    "    else:\n",
    "        Brand_Name.append(i.text)\n",
    "print(len(Brand_Name),Brand_Name)"
   ]
  },
  {
   "cell_type": "code",
   "execution_count": 65,
   "id": "2b4b04f9",
   "metadata": {},
   "outputs": [
    {
     "name": "stdout",
     "output_type": "stream",
     "text": [
      "24 ['8 GB RAM | 128 GB ROM', '4 GB RAM | 64 GB ROM | Expandable Upto 1 TB', '6 GB RAM | 128 GB ROM', '4 GB RAM | 64 GB ROM | Expandable Upto 1 TB', '4 GB RAM | 64 GB ROM | Expandable Upto 2 TB', '4 GB RAM | 64 GB ROM | Expandable Upto 512 GB', '4 GB RAM | 128 GB ROM | Expandable Upto 2 TB', '4 GB RAM | 64 GB ROM | Expandable Upto 2 TB', '8 GB RAM | 128 GB ROM', '4 GB RAM | 64 GB ROM | Expandable Upto 2 TB', '4 GB RAM | 128 GB ROM | Expandable Upto 512 GB', '8 GB RAM | 128 GB ROM | Expandable Upto 1 TB', '8 GB RAM | 128 GB ROM | Expandable Upto 1 TB', '4 GB RAM | 64 GB ROM | Expandable Upto 1 TB', '4 GB RAM | 64 GB ROM | Expandable Upto 1 TB', '4 GB RAM | 64 GB ROM | Expandable Upto 1 TB', '4 GB RAM | 64 GB ROM | Expandable Upto 1 TB', '8 GB RAM | 128 GB ROM | Expandable Upto 1 TB', '4 GB RAM | 64 GB ROM | Expandable Upto 1 TB', '4 GB RAM | 64 GB ROM | Expandable Upto 1 TB', '12 GB RAM | 256 GB ROM', '8 GB RAM | 128 GB ROM | Expandable Upto 1 TB', '8 GB RAM | 256 GB ROM', '6 GB RAM | 128 GB ROM']\n"
     ]
    }
   ],
   "source": [
    "#scraping RAM_ROM\n",
    "ram=driver.find_elements(By.XPATH,\"//ul[@class='_1xgFaf']//li[1]\")\n",
    "for i in ram:\n",
    "    if i.text is None :\n",
    "        Storage_RAM_ROM.append(\"--\") \n",
    "    else:\n",
    "        Storage_RAM_ROM.append(i.text)\n",
    "print(len(Storage_RAM_ROM),Storage_RAM_ROM)\n",
    "            "
   ]
  },
  {
   "cell_type": "code",
   "execution_count": 66,
   "id": "48038fd2",
   "metadata": {},
   "outputs": [
    {
     "name": "stdout",
     "output_type": "stream",
     "text": [
      "24 ['50MP + 8MP + 2MP | 16MP Front Camera', '13MP + 2MP | 5MP Front Camera', '64MP Rear Camera | 16MP Front Camera', '13MP Rear Camera | 5MP Front Camera', '13MP + AI Lens | 5MP Front Camera', '50MP + 2MP Depth Sensor + 2MP Macro Sensor | 8MP Front Camera', '108 MP + 2 MP+ AI Lens | 16MP Front Camera', '13MP + AI Lens | 5MP Front Camera', '50MP + 8MP + 2MP | 16MP Front Camera', '13MP + AI Lens | 5MP Front Camera', '13MP + AI Lens | 5MP Front Camera', '50MP + AI Lens | 5MP Front Camera', '50MP + AI Lens | 5MP Front Camera', '50MP + 5MP + 2MP | 8MP Front Camera', '50MP + AI Lens | 5MP Front Camera', '50MP + AI Lens | 5MP Front Camera', '50MP + AI Lens | 5MP Front Camera', '50MP + AI Lens | 5MP Front Camera', '50MP + AI Lens | 5MP Front Camera', '13MP + 2MP | 5MP Front Camera', '50MP + 13MP | 32MP Front Camera', '13MP Rear Camera | 5MP Front Camera', '108MP Rear Camera', '64MP Rear Camera | 16MP Front Camera']\n"
     ]
    }
   ],
   "source": [
    "#scraping PF camera\n",
    "PC=driver.find_elements(By.XPATH,\"//ul[@class='_1xgFaf']//li[3]\")\n",
    "for i in PC:\n",
    "    if i.text is None :\n",
    "        PF_Camera.append(\"--\") \n",
    "    else:\n",
    "        PF_Camera.append(i.text)\n",
    "print(len(PF_Camera),PF_Camera)"
   ]
  },
  {
   "cell_type": "code",
   "execution_count": 67,
   "id": "6ed4b255",
   "metadata": {},
   "outputs": [
    {
     "name": "stdout",
     "output_type": "stream",
     "text": [
      "24 ['16.51 cm (6.5 inch) Full HD+ Display', '16.51 cm (6.5 inch) HD Display', '16.74 cm (6.59 inch) Display', '16.51 cm (6.5 inch) HD+ Display', '16.76 cm (6.6 inch) HD+ Display', '16.71 cm (6.58 inch) Full HD+ Display', '17.22 cm (6.78 inch) Full HD+ Display', '16.76 cm (6.6 inch) HD+ Display', '16.51 cm (6.5 inch) Full HD+ Display', '16.76 cm (6.6 inch) HD+ Display', '16.76 cm (6.6 inch) HD+ Display', '16.76 cm (6.6 inch) HD+ Display', '16.76 cm (6.6 inch) HD+ Display', '16.76 cm (6.6 inch) Full HD+ Display', '16.76 cm (6.6 inch) HD+ Display', '16.76 cm (6.6 inch) HD+ Display', '16.76 cm (6.6 inch) HD+ Display', '16.76 cm (6.6 inch) HD+ Display', '16.76 cm (6.6 inch) HD+ Display', '16.51 cm (6.5 inch) HD Display', '16.64 cm (6.55 inch) Full HD+ Display', '16.51 cm (6.5 inch) HD+ Display', '17.07 cm (6.72 inch) Display', '16.74 cm (6.59 inch) Display']\n"
     ]
    }
   ],
   "source": [
    "#scraping the Display size \n",
    "DS=driver.find_elements(By.XPATH,\"//ul[@class='_1xgFaf']//li[2]\")\n",
    "for i in DS:\n",
    "    if i.text is None :\n",
    "        Display_size_Resolution.append(\"--\") \n",
    "    else:\n",
    "        Display_size_Resolution.append(i.text)\n",
    "print(len(Display_size_Resolution),Display_size_Resolution)"
   ]
  },
  {
   "cell_type": "code",
   "execution_count": 68,
   "id": "1c667533",
   "metadata": {},
   "outputs": [
    {
     "name": "stdout",
     "output_type": "stream",
     "text": [
      "24 ['Qualcomm Snapdragon 680 Processor', 'Mediatek Helio P35 Processor', '12 Months', 'Unisoc T606 Processor', 'Unisoc Spreadtrum SC9863A1 Processor', 'Mediatek Helio G99 Processor', 'Dimensity 6080 Processor', 'Unisoc Spreadtrum SC9863A1 Processor', 'Qualcomm Snapdragon 680 Processor', 'Unisoc Spreadtrum SC9863A1 Processor', 'Unisoc Spreadtrum SC9863A1 Processor', 'G37 Processor', 'G37 Processor', 'Exynos 850 Processor', 'G37 Processor', 'G37 Processor', 'G37 Processor', 'G37 Processor', 'G37 Processor', 'Mediatek Helio P35 Processor', 'Dimensity 7030 Processor', 'Unisoc T606 Processor', 'Domestic Warranty of 12 months on phone & 6 months on accessories', '12 months']\n"
     ]
    }
   ],
   "source": [
    "#scraping the ProcessorAndCores \n",
    "P=driver.find_elements(By.XPATH,\"//ul[@class='_1xgFaf']//li[5]\")\n",
    "for i in P:\n",
    "    if i.text is None :\n",
    "        ProcessorAndCores.append(\"--\") \n",
    "    else:\n",
    "        ProcessorAndCores.append(i.text)\n",
    "print(len(ProcessorAndCores),ProcessorAndCores)"
   ]
  },
  {
   "cell_type": "code",
   "execution_count": 70,
   "id": "08c9b98b",
   "metadata": {},
   "outputs": [
    {
     "name": "stdout",
     "output_type": "stream",
     "text": [
      "24 ['5000 mAh Lithium Polymer Battery', '5000 mAh Lithium-Ion Battery', '5000 mAh Battery', '5000 mAh Battery', '6000 mAh Battery', '5000 mAh Lithium-ion Polymer Battery', '5000 mAh Li-ion Polymer Battery', '6000 mAh Battery', '5000 mAh Lithium Polymer Battery', '6000 mAh Battery', '6000 mAh Battery', '5000 mAh Battery', '5000 mAh Battery', '6000 mAh Lithium Ion Battery', '5000 mAh Battery', '5000 mAh Battery', '5000 mAh Battery', '5000 mAh Battery', '5000 mAh Battery', '5000 mAh Lithium-Ion Battery', '5000 mAh Battery', '5000 mAh Battery', '5000 mAh Battery', '5000 mAh Battery']\n"
     ]
    }
   ],
   "source": [
    "#scraping the Battery \n",
    "B=driver.find_elements(By.XPATH,\"//ul[@class='_1xgFaf']//li[4]\")\n",
    "for i in B:\n",
    "    if i.text is None :\n",
    "        Battery.append(\"--\") \n",
    "    else:\n",
    "        Battery.append(i.text)\n",
    "print(len(Battery),Battery)"
   ]
  },
  {
   "cell_type": "code",
   "execution_count": 72,
   "id": "50823fbb",
   "metadata": {},
   "outputs": [
    {
     "name": "stdout",
     "output_type": "stream",
     "text": [
      "24 ['₹9,999', '₹6,499', '₹16,969', '₹6,499', '₹6,699', '₹7,777', '₹13,499', '₹6,699', '₹9,999', '₹6,699', '₹6,799', '₹8,499', '₹8,499', '₹9,199', '₹7,499', '₹7,499', '₹7,499', '₹8,499', '₹7,499', '₹6,499', '₹22,999', '₹7,499', '₹21,995', '₹16,938']\n"
     ]
    }
   ],
   "source": [
    "#scraping the Price \n",
    "price=driver.find_elements(By.XPATH,\"//div[@class='_30jeq3 _1_WHN1']\")\n",
    "for i in price:\n",
    "    if i.text is None :\n",
    "        Price.append(\"--\") \n",
    "    else:\n",
    "        Price.append(i.text)\n",
    "print(len(Price),Price)"
   ]
  },
  {
   "cell_type": "code",
   "execution_count": 73,
   "id": "87b11590",
   "metadata": {},
   "outputs": [
    {
     "data": {
      "text/html": [
       "<div>\n",
       "<style scoped>\n",
       "    .dataframe tbody tr th:only-of-type {\n",
       "        vertical-align: middle;\n",
       "    }\n",
       "\n",
       "    .dataframe tbody tr th {\n",
       "        vertical-align: top;\n",
       "    }\n",
       "\n",
       "    .dataframe thead th {\n",
       "        text-align: right;\n",
       "    }\n",
       "</style>\n",
       "<table border=\"1\" class=\"dataframe\">\n",
       "  <thead>\n",
       "    <tr style=\"text-align: right;\">\n",
       "      <th></th>\n",
       "      <th>Brand_Name</th>\n",
       "      <th>Storage_RAM_ROM</th>\n",
       "      <th>Amount PF_Camera</th>\n",
       "      <th>Display_size_Resolution</th>\n",
       "      <th>ProcessorAndCores</th>\n",
       "      <th>Battery</th>\n",
       "      <th>Price</th>\n",
       "    </tr>\n",
       "  </thead>\n",
       "  <tbody>\n",
       "    <tr>\n",
       "      <th>0</th>\n",
       "      <td>MOTOROLA G32 (Mineral Gray, 128 GB)</td>\n",
       "      <td>8 GB RAM | 128 GB ROM</td>\n",
       "      <td>50MP + 8MP + 2MP | 16MP Front Camera</td>\n",
       "      <td>16.51 cm (6.5 inch) Full HD+ Display</td>\n",
       "      <td>Qualcomm Snapdragon 680 Processor</td>\n",
       "      <td>5000 mAh Lithium Polymer Battery</td>\n",
       "      <td>₹9,999</td>\n",
       "    </tr>\n",
       "    <tr>\n",
       "      <th>1</th>\n",
       "      <td>SAMSUNG Galaxy F04 (Opal Green, 64 GB)</td>\n",
       "      <td>4 GB RAM | 64 GB ROM | Expandable Upto 1 TB</td>\n",
       "      <td>13MP + 2MP | 5MP Front Camera</td>\n",
       "      <td>16.51 cm (6.5 inch) HD Display</td>\n",
       "      <td>Mediatek Helio P35 Processor</td>\n",
       "      <td>5000 mAh Lithium-Ion Battery</td>\n",
       "      <td>₹6,499</td>\n",
       "    </tr>\n",
       "    <tr>\n",
       "      <th>2</th>\n",
       "      <td>OnePlus Nord CE 2 Lite 5G (Blue Tide, 128 GB)</td>\n",
       "      <td>6 GB RAM | 128 GB ROM</td>\n",
       "      <td>64MP Rear Camera | 16MP Front Camera</td>\n",
       "      <td>16.74 cm (6.59 inch) Display</td>\n",
       "      <td>12 Months</td>\n",
       "      <td>5000 mAh Battery</td>\n",
       "      <td>₹16,969</td>\n",
       "    </tr>\n",
       "    <tr>\n",
       "      <th>3</th>\n",
       "      <td>MOTOROLA e13 (Aurora Green, 64 GB)</td>\n",
       "      <td>4 GB RAM | 64 GB ROM | Expandable Upto 1 TB</td>\n",
       "      <td>13MP Rear Camera | 5MP Front Camera</td>\n",
       "      <td>16.51 cm (6.5 inch) HD+ Display</td>\n",
       "      <td>Unisoc T606 Processor</td>\n",
       "      <td>5000 mAh Battery</td>\n",
       "      <td>₹6,499</td>\n",
       "    </tr>\n",
       "    <tr>\n",
       "      <th>4</th>\n",
       "      <td>Infinix SMART 7 (Azure Blue, 64 GB)</td>\n",
       "      <td>4 GB RAM | 64 GB ROM | Expandable Upto 2 TB</td>\n",
       "      <td>13MP + AI Lens | 5MP Front Camera</td>\n",
       "      <td>16.76 cm (6.6 inch) HD+ Display</td>\n",
       "      <td>Unisoc Spreadtrum SC9863A1 Processor</td>\n",
       "      <td>6000 mAh Battery</td>\n",
       "      <td>₹6,699</td>\n",
       "    </tr>\n",
       "    <tr>\n",
       "      <th>5</th>\n",
       "      <td>POCO M5 (Icy Blue, 64 GB)</td>\n",
       "      <td>4 GB RAM | 64 GB ROM | Expandable Upto 512 GB</td>\n",
       "      <td>50MP + 2MP Depth Sensor + 2MP Macro Sensor | 8...</td>\n",
       "      <td>16.71 cm (6.58 inch) Full HD+ Display</td>\n",
       "      <td>Mediatek Helio G99 Processor</td>\n",
       "      <td>5000 mAh Lithium-ion Polymer Battery</td>\n",
       "      <td>₹7,777</td>\n",
       "    </tr>\n",
       "    <tr>\n",
       "      <th>6</th>\n",
       "      <td>Infinix Note 30 5G (Sunset Gold, 128 GB)</td>\n",
       "      <td>4 GB RAM | 128 GB ROM | Expandable Upto 2 TB</td>\n",
       "      <td>108 MP + 2 MP+ AI Lens | 16MP Front Camera</td>\n",
       "      <td>17.22 cm (6.78 inch) Full HD+ Display</td>\n",
       "      <td>Dimensity 6080 Processor</td>\n",
       "      <td>5000 mAh Li-ion Polymer Battery</td>\n",
       "      <td>₹13,499</td>\n",
       "    </tr>\n",
       "    <tr>\n",
       "      <th>7</th>\n",
       "      <td>Infinix SMART 7 (Emerald Green, 64 GB)</td>\n",
       "      <td>4 GB RAM | 64 GB ROM | Expandable Upto 2 TB</td>\n",
       "      <td>13MP + AI Lens | 5MP Front Camera</td>\n",
       "      <td>16.76 cm (6.6 inch) HD+ Display</td>\n",
       "      <td>Unisoc Spreadtrum SC9863A1 Processor</td>\n",
       "      <td>6000 mAh Battery</td>\n",
       "      <td>₹6,699</td>\n",
       "    </tr>\n",
       "    <tr>\n",
       "      <th>8</th>\n",
       "      <td>MOTOROLA G32 (Satin Silver, 128 GB)</td>\n",
       "      <td>8 GB RAM | 128 GB ROM</td>\n",
       "      <td>50MP + 8MP + 2MP | 16MP Front Camera</td>\n",
       "      <td>16.51 cm (6.5 inch) Full HD+ Display</td>\n",
       "      <td>Qualcomm Snapdragon 680 Processor</td>\n",
       "      <td>5000 mAh Lithium Polymer Battery</td>\n",
       "      <td>₹9,999</td>\n",
       "    </tr>\n",
       "    <tr>\n",
       "      <th>9</th>\n",
       "      <td>Infinix SMART 7 (Night Black, 64 GB)</td>\n",
       "      <td>4 GB RAM | 64 GB ROM | Expandable Upto 2 TB</td>\n",
       "      <td>13MP + AI Lens | 5MP Front Camera</td>\n",
       "      <td>16.76 cm (6.6 inch) HD+ Display</td>\n",
       "      <td>Unisoc Spreadtrum SC9863A1 Processor</td>\n",
       "      <td>6000 mAh Battery</td>\n",
       "      <td>₹6,699</td>\n",
       "    </tr>\n",
       "    <tr>\n",
       "      <th>10</th>\n",
       "      <td>Infinix SMART 7 (Azure Blue, 128 GB)</td>\n",
       "      <td>4 GB RAM | 128 GB ROM | Expandable Upto 512 GB</td>\n",
       "      <td>13MP + AI Lens | 5MP Front Camera</td>\n",
       "      <td>16.76 cm (6.6 inch) HD+ Display</td>\n",
       "      <td>Unisoc Spreadtrum SC9863A1 Processor</td>\n",
       "      <td>6000 mAh Battery</td>\n",
       "      <td>₹6,799</td>\n",
       "    </tr>\n",
       "    <tr>\n",
       "      <th>11</th>\n",
       "      <td>Infinix HOT 30i (Glacier Blue, 128 GB)</td>\n",
       "      <td>8 GB RAM | 128 GB ROM | Expandable Upto 1 TB</td>\n",
       "      <td>50MP + AI Lens | 5MP Front Camera</td>\n",
       "      <td>16.76 cm (6.6 inch) HD+ Display</td>\n",
       "      <td>G37 Processor</td>\n",
       "      <td>5000 mAh Battery</td>\n",
       "      <td>₹8,499</td>\n",
       "    </tr>\n",
       "    <tr>\n",
       "      <th>12</th>\n",
       "      <td>Infinix HOT 30i (Diamond White, 128 GB)</td>\n",
       "      <td>8 GB RAM | 128 GB ROM | Expandable Upto 1 TB</td>\n",
       "      <td>50MP + AI Lens | 5MP Front Camera</td>\n",
       "      <td>16.76 cm (6.6 inch) HD+ Display</td>\n",
       "      <td>G37 Processor</td>\n",
       "      <td>5000 mAh Battery</td>\n",
       "      <td>₹8,499</td>\n",
       "    </tr>\n",
       "    <tr>\n",
       "      <th>13</th>\n",
       "      <td>SAMSUNG Galaxy F13 (Waterfall Blue, 64 GB)</td>\n",
       "      <td>4 GB RAM | 64 GB ROM | Expandable Upto 1 TB</td>\n",
       "      <td>50MP + 5MP + 2MP | 8MP Front Camera</td>\n",
       "      <td>16.76 cm (6.6 inch) Full HD+ Display</td>\n",
       "      <td>Exynos 850 Processor</td>\n",
       "      <td>6000 mAh Lithium Ion Battery</td>\n",
       "      <td>₹9,199</td>\n",
       "    </tr>\n",
       "    <tr>\n",
       "      <th>14</th>\n",
       "      <td>Infinix HOT 30i (Diamond White, 64 GB)</td>\n",
       "      <td>4 GB RAM | 64 GB ROM | Expandable Upto 1 TB</td>\n",
       "      <td>50MP + AI Lens | 5MP Front Camera</td>\n",
       "      <td>16.76 cm (6.6 inch) HD+ Display</td>\n",
       "      <td>G37 Processor</td>\n",
       "      <td>5000 mAh Battery</td>\n",
       "      <td>₹7,499</td>\n",
       "    </tr>\n",
       "    <tr>\n",
       "      <th>15</th>\n",
       "      <td>Infinix HOT 30i (Marigold, 64 GB)</td>\n",
       "      <td>4 GB RAM | 64 GB ROM | Expandable Upto 1 TB</td>\n",
       "      <td>50MP + AI Lens | 5MP Front Camera</td>\n",
       "      <td>16.76 cm (6.6 inch) HD+ Display</td>\n",
       "      <td>G37 Processor</td>\n",
       "      <td>5000 mAh Battery</td>\n",
       "      <td>₹7,499</td>\n",
       "    </tr>\n",
       "    <tr>\n",
       "      <th>16</th>\n",
       "      <td>Infinix HOT 30i (Glacier Blue, 64 GB)</td>\n",
       "      <td>4 GB RAM | 64 GB ROM | Expandable Upto 1 TB</td>\n",
       "      <td>50MP + AI Lens | 5MP Front Camera</td>\n",
       "      <td>16.76 cm (6.6 inch) HD+ Display</td>\n",
       "      <td>G37 Processor</td>\n",
       "      <td>5000 mAh Battery</td>\n",
       "      <td>₹7,499</td>\n",
       "    </tr>\n",
       "    <tr>\n",
       "      <th>17</th>\n",
       "      <td>Infinix HOT 30i (Mirror Black, 128 GB)</td>\n",
       "      <td>8 GB RAM | 128 GB ROM | Expandable Upto 1 TB</td>\n",
       "      <td>50MP + AI Lens | 5MP Front Camera</td>\n",
       "      <td>16.76 cm (6.6 inch) HD+ Display</td>\n",
       "      <td>G37 Processor</td>\n",
       "      <td>5000 mAh Battery</td>\n",
       "      <td>₹8,499</td>\n",
       "    </tr>\n",
       "    <tr>\n",
       "      <th>18</th>\n",
       "      <td>Infinix HOT 30i (Mirror Black, 64 GB)</td>\n",
       "      <td>4 GB RAM | 64 GB ROM | Expandable Upto 1 TB</td>\n",
       "      <td>50MP + AI Lens | 5MP Front Camera</td>\n",
       "      <td>16.76 cm (6.6 inch) HD+ Display</td>\n",
       "      <td>G37 Processor</td>\n",
       "      <td>5000 mAh Battery</td>\n",
       "      <td>₹7,499</td>\n",
       "    </tr>\n",
       "    <tr>\n",
       "      <th>19</th>\n",
       "      <td>SAMSUNG Galaxy F04 (Jade Purple, 64 GB)</td>\n",
       "      <td>4 GB RAM | 64 GB ROM | Expandable Upto 1 TB</td>\n",
       "      <td>13MP + 2MP | 5MP Front Camera</td>\n",
       "      <td>16.51 cm (6.5 inch) HD Display</td>\n",
       "      <td>Mediatek Helio P35 Processor</td>\n",
       "      <td>5000 mAh Lithium-Ion Battery</td>\n",
       "      <td>₹6,499</td>\n",
       "    </tr>\n",
       "    <tr>\n",
       "      <th>20</th>\n",
       "      <td>MOTOROLA Edge 40 Neo (Black Beauty, 256 GB)</td>\n",
       "      <td>12 GB RAM | 256 GB ROM</td>\n",
       "      <td>50MP + 13MP | 32MP Front Camera</td>\n",
       "      <td>16.64 cm (6.55 inch) Full HD+ Display</td>\n",
       "      <td>Dimensity 7030 Processor</td>\n",
       "      <td>5000 mAh Battery</td>\n",
       "      <td>₹22,999</td>\n",
       "    </tr>\n",
       "    <tr>\n",
       "      <th>21</th>\n",
       "      <td>MOTOROLA e13 (Aurora Green, 128 GB)</td>\n",
       "      <td>8 GB RAM | 128 GB ROM | Expandable Upto 1 TB</td>\n",
       "      <td>13MP Rear Camera | 5MP Front Camera</td>\n",
       "      <td>16.51 cm (6.5 inch) HD+ Display</td>\n",
       "      <td>Unisoc T606 Processor</td>\n",
       "      <td>5000 mAh Battery</td>\n",
       "      <td>₹7,499</td>\n",
       "    </tr>\n",
       "    <tr>\n",
       "      <th>22</th>\n",
       "      <td>OnePlus Nord CE 3 Lite 5G (Chromatic Gray, 256...</td>\n",
       "      <td>8 GB RAM | 256 GB ROM</td>\n",
       "      <td>108MP Rear Camera</td>\n",
       "      <td>17.07 cm (6.72 inch) Display</td>\n",
       "      <td>Domestic Warranty of 12 months on phone &amp; 6 mo...</td>\n",
       "      <td>5000 mAh Battery</td>\n",
       "      <td>₹21,995</td>\n",
       "    </tr>\n",
       "    <tr>\n",
       "      <th>23</th>\n",
       "      <td>OnePlus Nord CE 2 Lite 5G (Black Dusk, 128 GB)</td>\n",
       "      <td>6 GB RAM | 128 GB ROM</td>\n",
       "      <td>64MP Rear Camera | 16MP Front Camera</td>\n",
       "      <td>16.74 cm (6.59 inch) Display</td>\n",
       "      <td>12 months</td>\n",
       "      <td>5000 mAh Battery</td>\n",
       "      <td>₹16,938</td>\n",
       "    </tr>\n",
       "  </tbody>\n",
       "</table>\n",
       "</div>"
      ],
      "text/plain": [
       "                                           Brand_Name  \\\n",
       "0                 MOTOROLA G32 (Mineral Gray, 128 GB)   \n",
       "1              SAMSUNG Galaxy F04 (Opal Green, 64 GB)   \n",
       "2       OnePlus Nord CE 2 Lite 5G (Blue Tide, 128 GB)   \n",
       "3                  MOTOROLA e13 (Aurora Green, 64 GB)   \n",
       "4                 Infinix SMART 7 (Azure Blue, 64 GB)   \n",
       "5                           POCO M5 (Icy Blue, 64 GB)   \n",
       "6            Infinix Note 30 5G (Sunset Gold, 128 GB)   \n",
       "7              Infinix SMART 7 (Emerald Green, 64 GB)   \n",
       "8                 MOTOROLA G32 (Satin Silver, 128 GB)   \n",
       "9                Infinix SMART 7 (Night Black, 64 GB)   \n",
       "10               Infinix SMART 7 (Azure Blue, 128 GB)   \n",
       "11             Infinix HOT 30i (Glacier Blue, 128 GB)   \n",
       "12            Infinix HOT 30i (Diamond White, 128 GB)   \n",
       "13         SAMSUNG Galaxy F13 (Waterfall Blue, 64 GB)   \n",
       "14             Infinix HOT 30i (Diamond White, 64 GB)   \n",
       "15                  Infinix HOT 30i (Marigold, 64 GB)   \n",
       "16              Infinix HOT 30i (Glacier Blue, 64 GB)   \n",
       "17             Infinix HOT 30i (Mirror Black, 128 GB)   \n",
       "18              Infinix HOT 30i (Mirror Black, 64 GB)   \n",
       "19            SAMSUNG Galaxy F04 (Jade Purple, 64 GB)   \n",
       "20        MOTOROLA Edge 40 Neo (Black Beauty, 256 GB)   \n",
       "21                MOTOROLA e13 (Aurora Green, 128 GB)   \n",
       "22  OnePlus Nord CE 3 Lite 5G (Chromatic Gray, 256...   \n",
       "23     OnePlus Nord CE 2 Lite 5G (Black Dusk, 128 GB)   \n",
       "\n",
       "                                   Storage_RAM_ROM  \\\n",
       "0                            8 GB RAM | 128 GB ROM   \n",
       "1      4 GB RAM | 64 GB ROM | Expandable Upto 1 TB   \n",
       "2                            6 GB RAM | 128 GB ROM   \n",
       "3      4 GB RAM | 64 GB ROM | Expandable Upto 1 TB   \n",
       "4      4 GB RAM | 64 GB ROM | Expandable Upto 2 TB   \n",
       "5    4 GB RAM | 64 GB ROM | Expandable Upto 512 GB   \n",
       "6     4 GB RAM | 128 GB ROM | Expandable Upto 2 TB   \n",
       "7      4 GB RAM | 64 GB ROM | Expandable Upto 2 TB   \n",
       "8                            8 GB RAM | 128 GB ROM   \n",
       "9      4 GB RAM | 64 GB ROM | Expandable Upto 2 TB   \n",
       "10  4 GB RAM | 128 GB ROM | Expandable Upto 512 GB   \n",
       "11    8 GB RAM | 128 GB ROM | Expandable Upto 1 TB   \n",
       "12    8 GB RAM | 128 GB ROM | Expandable Upto 1 TB   \n",
       "13     4 GB RAM | 64 GB ROM | Expandable Upto 1 TB   \n",
       "14     4 GB RAM | 64 GB ROM | Expandable Upto 1 TB   \n",
       "15     4 GB RAM | 64 GB ROM | Expandable Upto 1 TB   \n",
       "16     4 GB RAM | 64 GB ROM | Expandable Upto 1 TB   \n",
       "17    8 GB RAM | 128 GB ROM | Expandable Upto 1 TB   \n",
       "18     4 GB RAM | 64 GB ROM | Expandable Upto 1 TB   \n",
       "19     4 GB RAM | 64 GB ROM | Expandable Upto 1 TB   \n",
       "20                          12 GB RAM | 256 GB ROM   \n",
       "21    8 GB RAM | 128 GB ROM | Expandable Upto 1 TB   \n",
       "22                           8 GB RAM | 256 GB ROM   \n",
       "23                           6 GB RAM | 128 GB ROM   \n",
       "\n",
       "                                     Amount PF_Camera  \\\n",
       "0                50MP + 8MP + 2MP | 16MP Front Camera   \n",
       "1                       13MP + 2MP | 5MP Front Camera   \n",
       "2                64MP Rear Camera | 16MP Front Camera   \n",
       "3                 13MP Rear Camera | 5MP Front Camera   \n",
       "4                   13MP + AI Lens | 5MP Front Camera   \n",
       "5   50MP + 2MP Depth Sensor + 2MP Macro Sensor | 8...   \n",
       "6          108 MP + 2 MP+ AI Lens | 16MP Front Camera   \n",
       "7                   13MP + AI Lens | 5MP Front Camera   \n",
       "8                50MP + 8MP + 2MP | 16MP Front Camera   \n",
       "9                   13MP + AI Lens | 5MP Front Camera   \n",
       "10                  13MP + AI Lens | 5MP Front Camera   \n",
       "11                  50MP + AI Lens | 5MP Front Camera   \n",
       "12                  50MP + AI Lens | 5MP Front Camera   \n",
       "13                50MP + 5MP + 2MP | 8MP Front Camera   \n",
       "14                  50MP + AI Lens | 5MP Front Camera   \n",
       "15                  50MP + AI Lens | 5MP Front Camera   \n",
       "16                  50MP + AI Lens | 5MP Front Camera   \n",
       "17                  50MP + AI Lens | 5MP Front Camera   \n",
       "18                  50MP + AI Lens | 5MP Front Camera   \n",
       "19                      13MP + 2MP | 5MP Front Camera   \n",
       "20                    50MP + 13MP | 32MP Front Camera   \n",
       "21                13MP Rear Camera | 5MP Front Camera   \n",
       "22                                  108MP Rear Camera   \n",
       "23               64MP Rear Camera | 16MP Front Camera   \n",
       "\n",
       "                  Display_size_Resolution  \\\n",
       "0    16.51 cm (6.5 inch) Full HD+ Display   \n",
       "1          16.51 cm (6.5 inch) HD Display   \n",
       "2            16.74 cm (6.59 inch) Display   \n",
       "3         16.51 cm (6.5 inch) HD+ Display   \n",
       "4         16.76 cm (6.6 inch) HD+ Display   \n",
       "5   16.71 cm (6.58 inch) Full HD+ Display   \n",
       "6   17.22 cm (6.78 inch) Full HD+ Display   \n",
       "7         16.76 cm (6.6 inch) HD+ Display   \n",
       "8    16.51 cm (6.5 inch) Full HD+ Display   \n",
       "9         16.76 cm (6.6 inch) HD+ Display   \n",
       "10        16.76 cm (6.6 inch) HD+ Display   \n",
       "11        16.76 cm (6.6 inch) HD+ Display   \n",
       "12        16.76 cm (6.6 inch) HD+ Display   \n",
       "13   16.76 cm (6.6 inch) Full HD+ Display   \n",
       "14        16.76 cm (6.6 inch) HD+ Display   \n",
       "15        16.76 cm (6.6 inch) HD+ Display   \n",
       "16        16.76 cm (6.6 inch) HD+ Display   \n",
       "17        16.76 cm (6.6 inch) HD+ Display   \n",
       "18        16.76 cm (6.6 inch) HD+ Display   \n",
       "19         16.51 cm (6.5 inch) HD Display   \n",
       "20  16.64 cm (6.55 inch) Full HD+ Display   \n",
       "21        16.51 cm (6.5 inch) HD+ Display   \n",
       "22           17.07 cm (6.72 inch) Display   \n",
       "23           16.74 cm (6.59 inch) Display   \n",
       "\n",
       "                                    ProcessorAndCores  \\\n",
       "0                   Qualcomm Snapdragon 680 Processor   \n",
       "1                        Mediatek Helio P35 Processor   \n",
       "2                                           12 Months   \n",
       "3                               Unisoc T606 Processor   \n",
       "4                Unisoc Spreadtrum SC9863A1 Processor   \n",
       "5                        Mediatek Helio G99 Processor   \n",
       "6                            Dimensity 6080 Processor   \n",
       "7                Unisoc Spreadtrum SC9863A1 Processor   \n",
       "8                   Qualcomm Snapdragon 680 Processor   \n",
       "9                Unisoc Spreadtrum SC9863A1 Processor   \n",
       "10               Unisoc Spreadtrum SC9863A1 Processor   \n",
       "11                                      G37 Processor   \n",
       "12                                      G37 Processor   \n",
       "13                               Exynos 850 Processor   \n",
       "14                                      G37 Processor   \n",
       "15                                      G37 Processor   \n",
       "16                                      G37 Processor   \n",
       "17                                      G37 Processor   \n",
       "18                                      G37 Processor   \n",
       "19                       Mediatek Helio P35 Processor   \n",
       "20                           Dimensity 7030 Processor   \n",
       "21                              Unisoc T606 Processor   \n",
       "22  Domestic Warranty of 12 months on phone & 6 mo...   \n",
       "23                                          12 months   \n",
       "\n",
       "                                 Battery    Price  \n",
       "0       5000 mAh Lithium Polymer Battery   ₹9,999  \n",
       "1           5000 mAh Lithium-Ion Battery   ₹6,499  \n",
       "2                       5000 mAh Battery  ₹16,969  \n",
       "3                       5000 mAh Battery   ₹6,499  \n",
       "4                       6000 mAh Battery   ₹6,699  \n",
       "5   5000 mAh Lithium-ion Polymer Battery   ₹7,777  \n",
       "6        5000 mAh Li-ion Polymer Battery  ₹13,499  \n",
       "7                       6000 mAh Battery   ₹6,699  \n",
       "8       5000 mAh Lithium Polymer Battery   ₹9,999  \n",
       "9                       6000 mAh Battery   ₹6,699  \n",
       "10                      6000 mAh Battery   ₹6,799  \n",
       "11                      5000 mAh Battery   ₹8,499  \n",
       "12                      5000 mAh Battery   ₹8,499  \n",
       "13          6000 mAh Lithium Ion Battery   ₹9,199  \n",
       "14                      5000 mAh Battery   ₹7,499  \n",
       "15                      5000 mAh Battery   ₹7,499  \n",
       "16                      5000 mAh Battery   ₹7,499  \n",
       "17                      5000 mAh Battery   ₹8,499  \n",
       "18                      5000 mAh Battery   ₹7,499  \n",
       "19          5000 mAh Lithium-Ion Battery   ₹6,499  \n",
       "20                      5000 mAh Battery  ₹22,999  \n",
       "21                      5000 mAh Battery   ₹7,499  \n",
       "22                      5000 mAh Battery  ₹21,995  \n",
       "23                      5000 mAh Battery  ₹16,938  "
      ]
     },
     "execution_count": 73,
     "metadata": {},
     "output_type": "execute_result"
    }
   ],
   "source": [
    "FlipKart=pd.DataFrame([])\n",
    "FlipKart['Brand_Name']=Brand_Name\n",
    "FlipKart['Storage_RAM_ROM']=Storage_RAM_ROM\n",
    "FlipKart['Amount PF_Camera']=PF_Camera\n",
    "FlipKart['Display_size_Resolution']=Display_size_Resolution\n",
    "FlipKart['ProcessorAndCores']=ProcessorAndCores\n",
    "FlipKart['Battery']=Battery\n",
    "FlipKart['Price']=Price\n",
    "\n",
    "FlipKart"
   ]
  },
  {
   "cell_type": "code",
   "execution_count": null,
   "id": "e6422bfd",
   "metadata": {},
   "outputs": [],
   "source": [
    "driver.get('https://images.google.com/')"
   ]
  },
  {
   "cell_type": "code",
   "execution_count": 92,
   "id": "c17c9ea2",
   "metadata": {},
   "outputs": [],
   "source": [
    "search_bar = driver.find_element(By.XPATH,'//textarea[@class=\"gLFyf\"]')    # Finding the search bar using it's xpath\n",
    "search_bar.send_keys(\"fruits\")       # Inputing \"banana\" keyword to search rock images\n",
    "search_button = driver.find_element(By.XPATH,'//span[@class=\"z1asCe MZy1Rb\"]')    # Finding the xpath of search button\n",
    "search_button.click()"
   ]
  },
  {
   "cell_type": "code",
   "execution_count": 93,
   "id": "a1080594",
   "metadata": {},
   "outputs": [
    {
     "name": "stdout",
     "output_type": "stream",
     "text": [
      "start scrolling to generate more images on the page...\n"
     ]
    }
   ],
   "source": [
    "print(\"start scrolling to generate more images on the page...\")\n",
    "for _ in range(500):\n",
    "    driver.execute_script(\"window.scrollBy(0,10000)\")"
   ]
  },
  {
   "cell_type": "code",
   "execution_count": 94,
   "id": "025c27f6",
   "metadata": {},
   "outputs": [],
   "source": [
    "images = driver.find_elements(By.XPATH,'//img[@class=\"rg_i Q4LuWd\"]')"
   ]
  },
  {
   "cell_type": "code",
   "execution_count": 95,
   "id": "f163efd0",
   "metadata": {},
   "outputs": [
    {
     "data": {
      "text/plain": [
       "32"
      ]
     },
     "execution_count": 95,
     "metadata": {},
     "output_type": "execute_result"
    }
   ],
   "source": [
    "img_urls = []\n",
    "img_data = []\n",
    "for image in images:\n",
    "    source= image.get_attribute('src')\n",
    "    if source is not None:\n",
    "        if(source[0:4] == 'http'):\n",
    "            img_urls.append(source)\n",
    "len(img_urls)"
   ]
  },
  {
   "cell_type": "code",
   "execution_count": 98,
   "id": "bd76d141",
   "metadata": {},
   "outputs": [
    {
     "name": "stdout",
     "output_type": "stream",
     "text": [
      "Downloading 0 of 100 images\n",
      "Downloading 1 of 100 images\n",
      "Downloading 2 of 100 images\n",
      "Downloading 3 of 100 images\n",
      "Downloading 4 of 100 images\n",
      "Downloading 5 of 100 images\n",
      "Downloading 6 of 100 images\n",
      "Downloading 7 of 100 images\n",
      "Downloading 8 of 100 images\n",
      "Downloading 9 of 100 images\n",
      "Downloading 10 of 100 images\n",
      "Downloading 11 of 100 images\n",
      "Downloading 12 of 100 images\n",
      "Downloading 13 of 100 images\n",
      "Downloading 14 of 100 images\n",
      "Downloading 15 of 100 images\n",
      "Downloading 16 of 100 images\n",
      "Downloading 17 of 100 images\n",
      "Downloading 18 of 100 images\n",
      "Downloading 19 of 100 images\n",
      "Downloading 20 of 100 images\n",
      "Downloading 21 of 100 images\n",
      "Downloading 22 of 100 images\n",
      "Downloading 23 of 100 images\n",
      "Downloading 24 of 100 images\n",
      "Downloading 25 of 100 images\n",
      "Downloading 26 of 100 images\n",
      "Downloading 27 of 100 images\n",
      "Downloading 28 of 100 images\n",
      "Downloading 29 of 100 images\n",
      "Downloading 30 of 100 images\n",
      "Downloading 31 of 100 images\n"
     ]
    }
   ],
   "source": [
    "for i in range(len(img_urls)):\n",
    "    if i >= 100:\n",
    "        break\n",
    "    print(\"Downloading {0} of {1} images\" .format(i, 100))\n",
    "    response= requests.get(img_urls[i])\n",
    "    file = open(r\"C:\\Users\\kushagra gemini\\Desktop\"+str(i)+\".jpg\", \"wb\")\n",
    "    file.write(response.content)"
   ]
  },
  {
   "cell_type": "code",
   "execution_count": 1,
   "id": "4b6f3854",
   "metadata": {},
   "outputs": [],
   "source": [
    "import pandas as pd\n",
    "from selenium import webdriver\n",
    "import warnings\n",
    "warnings.filterwarnings('ignore')\n",
    "from selenium.webdriver.common.by import By\n",
    "import requests \n",
    "import time\n",
    "from selenium.common.exceptions import NoSuchElementException"
   ]
  },
  {
   "cell_type": "code",
   "execution_count": 2,
   "id": "467c0817",
   "metadata": {},
   "outputs": [],
   "source": [
    "driver = webdriver.Chrome()"
   ]
  },
  {
   "cell_type": "code",
   "execution_count": 3,
   "id": "a6c412fa",
   "metadata": {},
   "outputs": [],
   "source": [
    "driver.get(\"https://www.google.com/maps\")"
   ]
  },
  {
   "cell_type": "code",
   "execution_count": 4,
   "id": "62ebbc60",
   "metadata": {},
   "outputs": [
    {
     "name": "stdout",
     "output_type": "stream",
     "text": [
      "please enter product here--->Delhi\n"
     ]
    }
   ],
   "source": [
    "inputU = input('please enter product here--->')"
   ]
  },
  {
   "cell_type": "code",
   "execution_count": 5,
   "id": "7677ea7c",
   "metadata": {},
   "outputs": [],
   "source": [
    "speaker_tag = driver.find_element(By.XPATH,'//input[@class=\"searchboxinput xiQnY\"]')\n",
    "speaker_tag.send_keys('Delhi')\n",
    "search = driver.find_element(By.XPATH,'//button[@class=\"mL3xi google-symbols\"]')\n",
    "search.click()\n"
   ]
  },
  {
   "cell_type": "code",
   "execution_count": 6,
   "id": "c89f2cb9",
   "metadata": {},
   "outputs": [],
   "source": [
    "url_with_coordinates = driver.current_url\n",
    "latitude_longitude = url_with_coordinates.split(\"/@\")[1].split(\",\")[0:2]"
   ]
  },
  {
   "cell_type": "code",
   "execution_count": 7,
   "id": "25a6aea0",
   "metadata": {},
   "outputs": [],
   "source": [
    "latitude = latitude_longitude[0]\n",
    "longitude = latitude_longitude[1]"
   ]
  },
  {
   "cell_type": "code",
   "execution_count": 8,
   "id": "7c94abb3",
   "metadata": {},
   "outputs": [
    {
     "name": "stdout",
     "output_type": "stream",
     "text": [
      "Latitude: 25.1791312\n",
      "Longitude: 75.8608506\n"
     ]
    }
   ],
   "source": [
    "print(\"Latitude:\", latitude)\n",
    "print(\"Longitude:\", longitude)"
   ]
  },
  {
   "cell_type": "code",
   "execution_count": null,
   "id": "a65ccbe3",
   "metadata": {},
   "outputs": [],
   "source": []
  }
 ],
 "metadata": {
  "kernelspec": {
   "display_name": "Python 3 (ipykernel)",
   "language": "python",
   "name": "python3"
  },
  "language_info": {
   "codemirror_mode": {
    "name": "ipython",
    "version": 3
   },
   "file_extension": ".py",
   "mimetype": "text/x-python",
   "name": "python",
   "nbconvert_exporter": "python",
   "pygments_lexer": "ipython3",
   "version": "3.11.4"
  }
 },
 "nbformat": 4,
 "nbformat_minor": 5
}
