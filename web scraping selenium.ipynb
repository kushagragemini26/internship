{
 "cells": [
  {
   "cell_type": "code",
   "execution_count": null,
   "id": "164cd71f",
   "metadata": {},
   "outputs": [],
   "source": [
    "# sunglasses"
   ]
  },
  {
   "cell_type": "code",
   "execution_count": 1,
   "id": "bd3b9d56",
   "metadata": {},
   "outputs": [
    {
     "name": "stdout",
     "output_type": "stream",
     "text": [
      "Requirement already satisfied: selenium in c:\\users\\kushagra gemini\\newanaconda3\\lib\\site-packages (4.12.0)\n",
      "Requirement already satisfied: urllib3[socks]<3,>=1.26 in c:\\users\\kushagra gemini\\newanaconda3\\lib\\site-packages (from selenium) (1.26.16)\n",
      "Requirement already satisfied: trio~=0.17 in c:\\users\\kushagra gemini\\newanaconda3\\lib\\site-packages (from selenium) (0.22.2)\n",
      "Requirement already satisfied: trio-websocket~=0.9 in c:\\users\\kushagra gemini\\newanaconda3\\lib\\site-packages (from selenium) (0.10.4)\n",
      "Requirement already satisfied: certifi>=2021.10.8 in c:\\users\\kushagra gemini\\newanaconda3\\lib\\site-packages (from selenium) (2023.7.22)\n",
      "Requirement already satisfied: attrs>=20.1.0 in c:\\users\\kushagra gemini\\newanaconda3\\lib\\site-packages (from trio~=0.17->selenium) (22.1.0)\n",
      "Requirement already satisfied: sortedcontainers in c:\\users\\kushagra gemini\\newanaconda3\\lib\\site-packages (from trio~=0.17->selenium) (2.4.0)\n",
      "Requirement already satisfied: idna in c:\\users\\kushagra gemini\\newanaconda3\\lib\\site-packages (from trio~=0.17->selenium) (3.4)\n",
      "Requirement already satisfied: outcome in c:\\users\\kushagra gemini\\newanaconda3\\lib\\site-packages (from trio~=0.17->selenium) (1.2.0)\n",
      "Requirement already satisfied: sniffio in c:\\users\\kushagra gemini\\newanaconda3\\lib\\site-packages (from trio~=0.17->selenium) (1.2.0)\n",
      "Requirement already satisfied: cffi>=1.14 in c:\\users\\kushagra gemini\\newanaconda3\\lib\\site-packages (from trio~=0.17->selenium) (1.15.1)\n",
      "Requirement already satisfied: exceptiongroup in c:\\users\\kushagra gemini\\newanaconda3\\lib\\site-packages (from trio-websocket~=0.9->selenium) (1.1.3)\n",
      "Requirement already satisfied: wsproto>=0.14 in c:\\users\\kushagra gemini\\newanaconda3\\lib\\site-packages (from trio-websocket~=0.9->selenium) (1.2.0)\n",
      "Requirement already satisfied: PySocks!=1.5.7,<2.0,>=1.5.6 in c:\\users\\kushagra gemini\\newanaconda3\\lib\\site-packages (from urllib3[socks]<3,>=1.26->selenium) (1.7.1)\n",
      "Requirement already satisfied: pycparser in c:\\users\\kushagra gemini\\newanaconda3\\lib\\site-packages (from cffi>=1.14->trio~=0.17->selenium) (2.21)\n",
      "Requirement already satisfied: h11<1,>=0.9.0 in c:\\users\\kushagra gemini\\newanaconda3\\lib\\site-packages (from wsproto>=0.14->trio-websocket~=0.9->selenium) (0.14.0)\n"
     ]
    }
   ],
   "source": [
    "!pip install selenium"
   ]
  },
  {
   "cell_type": "code",
   "execution_count": 2,
   "id": "fc20906a",
   "metadata": {},
   "outputs": [],
   "source": [
    "import  selenium \n",
    "import pandas as pd\n",
    "from selenium import webdriver\n",
    "import warnings\n",
    "warnings.filterwarnings('ignore')\n",
    "from selenium.webdriver.common.by import By\n",
    "import time"
   ]
  },
  {
   "cell_type": "code",
   "execution_count": 3,
   "id": "fa0f0020",
   "metadata": {},
   "outputs": [],
   "source": [
    "driver = webdriver.Chrome()\n"
   ]
  },
  {
   "cell_type": "code",
   "execution_count": 4,
   "id": "d8fb132a",
   "metadata": {},
   "outputs": [],
   "source": [
    "driver.get(\"https://www.flipkart.com/\")\n"
   ]
  },
  {
   "cell_type": "code",
   "execution_count": 7,
   "id": "ab6aca83",
   "metadata": {},
   "outputs": [
    {
     "data": {
      "text/plain": [
       "<selenium.webdriver.remote.webelement.WebElement (session=\"52611ebff453ef381f48c04c4a74acc4\", element=\"288CD5F803339CD6D08ACCEA519596D6_element_109\")>"
      ]
     },
     "execution_count": 7,
     "metadata": {},
     "output_type": "execute_result"
    }
   ],
   "source": [
    "search_g= driver.find_element(By.XPATH,'//input[@class=\"Pke_EE\"]')\n",
    "search_g"
   ]
  },
  {
   "cell_type": "code",
   "execution_count": 8,
   "id": "af0bc64e",
   "metadata": {},
   "outputs": [],
   "source": [
    "search_g.send_keys('sunglasses')\n"
   ]
  },
  {
   "cell_type": "code",
   "execution_count": 11,
   "id": "0d99f9ff",
   "metadata": {},
   "outputs": [],
   "source": [
    "search_btn=driver.find_element(By.CLASS_NAME,'_2iLD__')\n",
    "search_btn.click()"
   ]
  },
  {
   "cell_type": "code",
   "execution_count": 12,
   "id": "d9e6622c",
   "metadata": {},
   "outputs": [],
   "source": [
    "Br_name=[]\n",
    "Price=[]\n",
    "P_desc=[]"
   ]
  },
  {
   "cell_type": "code",
   "execution_count": 15,
   "id": "e7f7ac07",
   "metadata": {},
   "outputs": [],
   "source": [
    "for i in range(3):\n",
    "    br_name=driver.find_elements(By.XPATH,'//div[@class=\"_2WkVRV\"]')\n",
    "    p_desc=driver.find_elements(By.XPATH,'//a[@class=\"IRpwTa\"]')\n",
    "    price =driver.find_elements(By.XPATH,'//div[@class=\"_30jeq3\"]')\n",
    "    \n",
    "    \n",
    "    for x  in br_name:\n",
    "        Br_name.append(j.text)\n",
    "    Br_name[:100]    \n",
    "    \n",
    "    \n",
    "    \n",
    "    for y in p_desc:\n",
    "        P_desc.append(k.text)\n",
    "    P_desc[:100] \n",
    "    \n",
    "    \n",
    "    for z in price:\n",
    "        Price.append(l.text)\n",
    "    Price[:100] \n",
    "    "
   ]
  },
  {
   "cell_type": "code",
   "execution_count": 29,
   "id": "8ce7766b",
   "metadata": {},
   "outputs": [
    {
     "data": {
      "text/plain": [
       "['VINCENT CHASE',\n",
       " 'VINCENT CHASE',\n",
       " 'Fastrack',\n",
       " 'Fastrack',\n",
       " 'Fastrack',\n",
       " 'Fastrack',\n",
       " 'STACTOR',\n",
       " 'VINCENT CHASE',\n",
       " 'Fastrack',\n",
       " 'Rich Club',\n",
       " 'Singco India',\n",
       " 'VINCENT CHASE',\n",
       " 'Fastrack',\n",
       " 'Sunglassess',\n",
       " 'Fastrack',\n",
       " 'ROADWAY',\n",
       " 'ROYAL SON',\n",
       " 'ROYAL SON',\n",
       " '90stethix',\n",
       " 'Fastrack',\n",
       " 'VINCENT CHASE',\n",
       " 'Eyewearlabs',\n",
       " 'Fastrack',\n",
       " 'GANSTA',\n",
       " 'Fastrack',\n",
       " 'eyedens',\n",
       " 'VINCENT CHASE',\n",
       " 'ROZZETTA CRAFT',\n",
       " 'Fastrack',\n",
       " 'ROYAL SON',\n",
       " 'ROZZETTA CRAFT',\n",
       " 'Singco India',\n",
       " 'Rich Club',\n",
       " 'Syn Traders',\n",
       " 'Fastrack',\n",
       " 'ROYAL SON',\n",
       " 'ROZZETTA CRAFT',\n",
       " 'Eyewearlabs',\n",
       " 'PIRASO',\n",
       " 'Eyewearlabs',\n",
       " 'VINCENT CHASE',\n",
       " 'VINCENT CHASE',\n",
       " 'Fastrack',\n",
       " 'Fastrack',\n",
       " 'Fastrack',\n",
       " 'Fastrack',\n",
       " 'STACTOR',\n",
       " 'VINCENT CHASE',\n",
       " 'Fastrack',\n",
       " 'Rich Club',\n",
       " 'Singco India',\n",
       " 'VINCENT CHASE',\n",
       " 'Fastrack',\n",
       " 'Sunglassess',\n",
       " 'Fastrack',\n",
       " 'ROADWAY',\n",
       " 'ROYAL SON',\n",
       " 'ROYAL SON',\n",
       " '90stethix',\n",
       " 'Fastrack',\n",
       " 'VINCENT CHASE',\n",
       " 'Eyewearlabs',\n",
       " 'Fastrack',\n",
       " 'GANSTA',\n",
       " 'Fastrack',\n",
       " 'eyedens',\n",
       " 'VINCENT CHASE',\n",
       " 'ROZZETTA CRAFT',\n",
       " 'Fastrack',\n",
       " 'ROYAL SON',\n",
       " 'ROZZETTA CRAFT',\n",
       " 'Singco India',\n",
       " 'Rich Club',\n",
       " 'Syn Traders',\n",
       " 'Fastrack',\n",
       " 'ROYAL SON',\n",
       " 'ROZZETTA CRAFT',\n",
       " 'Eyewearlabs',\n",
       " 'PIRASO',\n",
       " 'Eyewearlabs',\n",
       " 'VINCENT CHASE',\n",
       " 'VINCENT CHASE',\n",
       " 'Fastrack',\n",
       " 'Fastrack',\n",
       " 'Fastrack',\n",
       " 'Fastrack',\n",
       " 'STACTOR',\n",
       " 'VINCENT CHASE',\n",
       " 'Fastrack',\n",
       " 'Rich Club',\n",
       " 'Singco India',\n",
       " 'VINCENT CHASE',\n",
       " 'Fastrack',\n",
       " 'Sunglassess',\n",
       " 'Fastrack',\n",
       " 'ROADWAY',\n",
       " 'ROYAL SON',\n",
       " 'ROYAL SON',\n",
       " '90stethix',\n",
       " 'Fastrack']"
      ]
     },
     "execution_count": 29,
     "metadata": {},
     "output_type": "execute_result"
    }
   ],
   "source": [
    "B_name[:100]"
   ]
  },
  {
   "cell_type": "code",
   "execution_count": 17,
   "id": "6ef4cac9",
   "metadata": {},
   "outputs": [
    {
     "name": "stdout",
     "output_type": "stream",
     "text": [
      "100\n",
      "100\n",
      "100\n"
     ]
    },
    {
     "data": {
      "text/plain": [
       "(None, None, None)"
      ]
     },
     "execution_count": 17,
     "metadata": {},
     "output_type": "execute_result"
    }
   ],
   "source": [
    "print(len(Br_name[:100])),print(len(Price[:100])),print(len(P_desc[:100]))"
   ]
  },
  {
   "cell_type": "code",
   "execution_count": 21,
   "id": "6b736662",
   "metadata": {},
   "outputs": [],
   "source": [
    "sun_gls=pd.DataFrame({})\n",
    "sun_gls['Brand_name']=B_name[:100]\n",
    "sun_gls['P_price']=Price[:100]\n",
    "sun_gls['Pr_desc']=P_desc[:100]\n"
   ]
  },
  {
   "cell_type": "code",
   "execution_count": 22,
   "id": "b6a66c29",
   "metadata": {},
   "outputs": [
    {
     "data": {
      "text/html": [
       "<div>\n",
       "<style scoped>\n",
       "    .dataframe tbody tr th:only-of-type {\n",
       "        vertical-align: middle;\n",
       "    }\n",
       "\n",
       "    .dataframe tbody tr th {\n",
       "        vertical-align: top;\n",
       "    }\n",
       "\n",
       "    .dataframe thead th {\n",
       "        text-align: right;\n",
       "    }\n",
       "</style>\n",
       "<table border=\"1\" class=\"dataframe\">\n",
       "  <thead>\n",
       "    <tr style=\"text-align: right;\">\n",
       "      <th></th>\n",
       "      <th>Brand_name</th>\n",
       "      <th>P_price</th>\n",
       "      <th>Pr_desc</th>\n",
       "    </tr>\n",
       "  </thead>\n",
       "  <tbody>\n",
       "    <tr>\n",
       "      <th>0</th>\n",
       "      <td>VINCENT CHASE</td>\n",
       "      <td>₹549</td>\n",
       "      <td>UV Protection Wayfarer Sunglasses (59)</td>\n",
       "    </tr>\n",
       "    <tr>\n",
       "      <th>1</th>\n",
       "      <td>VINCENT CHASE</td>\n",
       "      <td>₹949</td>\n",
       "      <td>by Lenskart Polarized, UV Protection Rectangul...</td>\n",
       "    </tr>\n",
       "    <tr>\n",
       "      <th>2</th>\n",
       "      <td>Fastrack</td>\n",
       "      <td>₹499</td>\n",
       "      <td>UV Protection Rectangular Sunglasses (Free Size)</td>\n",
       "    </tr>\n",
       "    <tr>\n",
       "      <th>3</th>\n",
       "      <td>Fastrack</td>\n",
       "      <td>₹799</td>\n",
       "      <td>UV Protection Aviator Sunglasses (58)</td>\n",
       "    </tr>\n",
       "    <tr>\n",
       "      <th>4</th>\n",
       "      <td>Fastrack</td>\n",
       "      <td>₹549</td>\n",
       "      <td>Gradient, UV Protection Wayfarer Sunglasses (F...</td>\n",
       "    </tr>\n",
       "    <tr>\n",
       "      <th>...</th>\n",
       "      <td>...</td>\n",
       "      <td>...</td>\n",
       "      <td>...</td>\n",
       "    </tr>\n",
       "    <tr>\n",
       "      <th>95</th>\n",
       "      <td>ROADWAY</td>\n",
       "      <td>₹264</td>\n",
       "      <td>by Lenskart Polarized, UV Protection Round Sun...</td>\n",
       "    </tr>\n",
       "    <tr>\n",
       "      <th>96</th>\n",
       "      <td>ROYAL SON</td>\n",
       "      <td>₹490</td>\n",
       "      <td>UV Protection Retro Square Sunglasses (Free Size)</td>\n",
       "    </tr>\n",
       "    <tr>\n",
       "      <th>97</th>\n",
       "      <td>ROYAL SON</td>\n",
       "      <td>₹379</td>\n",
       "      <td>Gradient, UV Protection Wayfarer Sunglasses (F...</td>\n",
       "    </tr>\n",
       "    <tr>\n",
       "      <th>98</th>\n",
       "      <td>90stethix</td>\n",
       "      <td>₹299</td>\n",
       "      <td>Polarized Rectangular Sunglasses (60)</td>\n",
       "    </tr>\n",
       "    <tr>\n",
       "      <th>99</th>\n",
       "      <td>Fastrack</td>\n",
       "      <td>₹599</td>\n",
       "      <td>Polarized, Riding Glasses Sports, Wrap-around ...</td>\n",
       "    </tr>\n",
       "  </tbody>\n",
       "</table>\n",
       "<p>100 rows × 3 columns</p>\n",
       "</div>"
      ],
      "text/plain": [
       "       Brand_name P_price                                            Pr_desc\n",
       "0   VINCENT CHASE    ₹549             UV Protection Wayfarer Sunglasses (59)\n",
       "1   VINCENT CHASE    ₹949  by Lenskart Polarized, UV Protection Rectangul...\n",
       "2        Fastrack    ₹499   UV Protection Rectangular Sunglasses (Free Size)\n",
       "3        Fastrack    ₹799              UV Protection Aviator Sunglasses (58)\n",
       "4        Fastrack    ₹549  Gradient, UV Protection Wayfarer Sunglasses (F...\n",
       "..            ...     ...                                                ...\n",
       "95        ROADWAY    ₹264  by Lenskart Polarized, UV Protection Round Sun...\n",
       "96      ROYAL SON    ₹490  UV Protection Retro Square Sunglasses (Free Size)\n",
       "97      ROYAL SON    ₹379  Gradient, UV Protection Wayfarer Sunglasses (F...\n",
       "98      90stethix    ₹299              Polarized Rectangular Sunglasses (60)\n",
       "99       Fastrack    ₹599  Polarized, Riding Glasses Sports, Wrap-around ...\n",
       "\n",
       "[100 rows x 3 columns]"
      ]
     },
     "execution_count": 22,
     "metadata": {},
     "output_type": "execute_result"
    }
   ],
   "source": [
    "sun_gls"
   ]
  },
  {
   "cell_type": "code",
   "execution_count": null,
   "id": "30cf739c",
   "metadata": {},
   "outputs": [],
   "source": [
    "# iphone"
   ]
  },
  {
   "cell_type": "code",
   "execution_count": 2,
   "id": "5ca85da3",
   "metadata": {},
   "outputs": [],
   "source": [
    "import  selenium \n",
    "import pandas as pd\n",
    "from selenium import webdriver\n",
    "import warnings\n",
    "warnings.filterwarnings('ignore')\n",
    "from selenium.webdriver.common.by import By\n",
    "import time"
   ]
  },
  {
   "cell_type": "code",
   "execution_count": 3,
   "id": "2d17d1ec",
   "metadata": {},
   "outputs": [],
   "source": [
    "driver = webdriver.Chrome()\n"
   ]
  },
  {
   "cell_type": "code",
   "execution_count": 4,
   "id": "08495c48",
   "metadata": {},
   "outputs": [],
   "source": [
    "driver.get(\"https://www.flipkart.com/apple-iphone-11-black-64-gb/product-reviews/itm4e5041ba101fd?pid=MOBFWQ6BXGJCEYNY&lid=LSTMOBFWQ6BXGJCEYNYZXSHRJ&market\")"
   ]
  },
  {
   "cell_type": "code",
   "execution_count": 5,
   "id": "a3bff0f0",
   "metadata": {},
   "outputs": [],
   "source": [
    "Rating=[]\n",
    "Re_sum=[]\n",
    "Fl_sum=[]"
   ]
  },
  {
   "cell_type": "code",
   "execution_count": 6,
   "id": "0a7cd64d",
   "metadata": {},
   "outputs": [],
   "source": [
    "for i in range(3):\n",
    "    rating=driver.find_elements(By.XPATH,'//div[@class=\"_3LWZlK _1BLPMq\"]')\n",
    "    r_sum=driver.find_elements(By.XPATH,'//p[@class=\"_2-N8zT\"]')\n",
    "    f_sum=driver.find_elements(By.XPATH,'//div[@class=\"t-ZTKy\"]')\n",
    "    \n",
    "    \n",
    "    for r in rating:\n",
    "        Rating.append(r.text)\n",
    "    Rating[:100]    \n",
    "    \n",
    "    \n",
    "    \n",
    "    for s in r_sum:\n",
    "        Re_sum.append(s.text)\n",
    "    Re_sum[:100] \n",
    "    \n",
    "    \n",
    "    for f in f_sum:\n",
    "        Fl_sum.append(f.text)\n",
    "    Fl_sum[:100] \n",
    "    "
   ]
  },
  {
   "cell_type": "code",
   "execution_count": 7,
   "id": "05c874ef",
   "metadata": {},
   "outputs": [
    {
     "data": {
      "text/plain": [
       "['5',\n",
       " '5',\n",
       " '5',\n",
       " '5',\n",
       " '5',\n",
       " '5',\n",
       " '5',\n",
       " '5',\n",
       " '5',\n",
       " '5',\n",
       " '5',\n",
       " '5',\n",
       " '5',\n",
       " '5',\n",
       " '5',\n",
       " '5',\n",
       " '5',\n",
       " '5',\n",
       " '5',\n",
       " '5',\n",
       " '5',\n",
       " '5',\n",
       " '5',\n",
       " '5',\n",
       " '5',\n",
       " '5',\n",
       " '5',\n",
       " '5',\n",
       " '5',\n",
       " '5']"
      ]
     },
     "execution_count": 7,
     "metadata": {},
     "output_type": "execute_result"
    }
   ],
   "source": [
    "Rating[:100]"
   ]
  },
  {
   "cell_type": "code",
   "execution_count": 14,
   "id": "d517a5b4",
   "metadata": {},
   "outputs": [
    {
     "data": {
      "text/plain": [
       "['Best in the market!',\n",
       " 'Wonderful',\n",
       " 'Worth every penny',\n",
       " 'Must buy!',\n",
       " 'Classy product',\n",
       " 'Terrific',\n",
       " 'Fabulous!',\n",
       " 'Just wow!',\n",
       " 'Classy product',\n",
       " 'Must buy!',\n",
       " 'Best in the market!',\n",
       " 'Wonderful',\n",
       " 'Worth every penny',\n",
       " 'Must buy!',\n",
       " 'Classy product',\n",
       " 'Terrific',\n",
       " 'Fabulous!',\n",
       " 'Just wow!',\n",
       " 'Classy product',\n",
       " 'Must buy!',\n",
       " 'Best in the market!',\n",
       " 'Wonderful',\n",
       " 'Worth every penny',\n",
       " 'Must buy!',\n",
       " 'Classy product',\n",
       " 'Terrific',\n",
       " 'Fabulous!',\n",
       " 'Just wow!',\n",
       " 'Classy product',\n",
       " 'Must buy!']"
      ]
     },
     "execution_count": 14,
     "metadata": {},
     "output_type": "execute_result"
    }
   ],
   "source": [
    "Re_sum[:100]"
   ]
  },
  {
   "cell_type": "code",
   "execution_count": 15,
   "id": "b5809dc3",
   "metadata": {},
   "outputs": [
    {
     "data": {
      "text/plain": [
       "['Good Camera',\n",
       " 'This is amazing at all',\n",
       " 'Feeling awesome after getting the delivery of my phone. Dual speakers makes the sound quality very loud. Amazing!!',\n",
       " 'Go for iPhone 11 , if confused between iPhone 11 or iPhone 12 mini.Battery Life is enhanced , it worked for complete 2 days without charging it. Explored new features of taking screenshot by clicking on apple logo by Haptic Touch , Portrait mode with stage effect enhanced & slow motion selfie.',\n",
       " 'Camera is awesome\\nBest battery backup\\nA performer 👌🏻\\nIt will be a real value for money if they provide charger and earphone inbox!',\n",
       " 'Very very good',\n",
       " 'Super🔥 and good performance 👌❤️',\n",
       " 'Perfect Product!!',\n",
       " 'Photos super',\n",
       " 'It’s really awesome',\n",
       " 'Good Camera',\n",
       " 'This is amazing at all',\n",
       " 'Feeling awesome after getting the delivery of my phone. Dual speakers makes the sound quality very loud. Amazing!!',\n",
       " 'Go for iPhone 11 , if confused between iPhone 11 or iPhone 12 mini.Battery Life is enhanced , it worked for complete 2 days without charging it. Explored new features of taking screenshot by clicking on apple logo by Haptic Touch , Portrait mode with stage effect enhanced & slow motion selfie.',\n",
       " 'Camera is awesome\\nBest battery backup\\nA performer 👌🏻\\nIt will be a real value for money if they provide charger and earphone inbox!',\n",
       " 'Very very good',\n",
       " 'Super🔥 and good performance 👌❤️',\n",
       " 'Perfect Product!!',\n",
       " 'Photos super',\n",
       " 'It’s really awesome',\n",
       " 'Good Camera',\n",
       " 'This is amazing at all',\n",
       " 'Feeling awesome after getting the delivery of my phone. Dual speakers makes the sound quality very loud. Amazing!!',\n",
       " 'Go for iPhone 11 , if confused between iPhone 11 or iPhone 12 mini.Battery Life is enhanced , it worked for complete 2 days without charging it. Explored new features of taking screenshot by clicking on apple logo by Haptic Touch , Portrait mode with stage effect enhanced & slow motion selfie.',\n",
       " 'Camera is awesome\\nBest battery backup\\nA performer 👌🏻\\nIt will be a real value for money if they provide charger and earphone inbox!',\n",
       " 'Very very good',\n",
       " 'Super🔥 and good performance 👌❤️',\n",
       " 'Perfect Product!!',\n",
       " 'Photos super',\n",
       " 'It’s really awesome']"
      ]
     },
     "execution_count": 15,
     "metadata": {},
     "output_type": "execute_result"
    }
   ],
   "source": [
    "Fl_sum[:100]"
   ]
  },
  {
   "cell_type": "code",
   "execution_count": 16,
   "id": "9f9f71b0",
   "metadata": {},
   "outputs": [
    {
     "name": "stdout",
     "output_type": "stream",
     "text": [
      "30\n",
      "30\n",
      "30\n"
     ]
    },
    {
     "data": {
      "text/plain": [
       "(None, None, None)"
      ]
     },
     "execution_count": 16,
     "metadata": {},
     "output_type": "execute_result"
    }
   ],
   "source": [
    "print(len(Rating[:100])),print(len(Re_sum[:100])),print(len(Fl_sum[:100]))"
   ]
  },
  {
   "cell_type": "code",
   "execution_count": 22,
   "id": "551983b3",
   "metadata": {},
   "outputs": [],
   "source": [
    "ip=pd.DataFrame({})\n",
    "ip['Rating']=Rating[:100]\n",
    "ip['Re_sum']=Re_sum[:100]\n",
    "ip['Fl_sum']=Fl_sum[:100]\n"
   ]
  },
  {
   "cell_type": "code",
   "execution_count": 23,
   "id": "62e5e528",
   "metadata": {},
   "outputs": [
    {
     "data": {
      "text/html": [
       "<div>\n",
       "<style scoped>\n",
       "    .dataframe tbody tr th:only-of-type {\n",
       "        vertical-align: middle;\n",
       "    }\n",
       "\n",
       "    .dataframe tbody tr th {\n",
       "        vertical-align: top;\n",
       "    }\n",
       "\n",
       "    .dataframe thead th {\n",
       "        text-align: right;\n",
       "    }\n",
       "</style>\n",
       "<table border=\"1\" class=\"dataframe\">\n",
       "  <thead>\n",
       "    <tr style=\"text-align: right;\">\n",
       "      <th></th>\n",
       "      <th>Rating</th>\n",
       "      <th>Re_sum</th>\n",
       "      <th>Fl_sum</th>\n",
       "    </tr>\n",
       "  </thead>\n",
       "  <tbody>\n",
       "    <tr>\n",
       "      <th>0</th>\n",
       "      <td>5</td>\n",
       "      <td>Best in the market!</td>\n",
       "      <td>Good Camera</td>\n",
       "    </tr>\n",
       "    <tr>\n",
       "      <th>1</th>\n",
       "      <td>5</td>\n",
       "      <td>Wonderful</td>\n",
       "      <td>This is amazing at all</td>\n",
       "    </tr>\n",
       "    <tr>\n",
       "      <th>2</th>\n",
       "      <td>5</td>\n",
       "      <td>Worth every penny</td>\n",
       "      <td>Feeling awesome after getting the delivery of ...</td>\n",
       "    </tr>\n",
       "    <tr>\n",
       "      <th>3</th>\n",
       "      <td>5</td>\n",
       "      <td>Must buy!</td>\n",
       "      <td>Go for iPhone 11 , if confused between iPhone ...</td>\n",
       "    </tr>\n",
       "    <tr>\n",
       "      <th>4</th>\n",
       "      <td>5</td>\n",
       "      <td>Classy product</td>\n",
       "      <td>Camera is awesome\\nBest battery backup\\nA perf...</td>\n",
       "    </tr>\n",
       "    <tr>\n",
       "      <th>5</th>\n",
       "      <td>5</td>\n",
       "      <td>Terrific</td>\n",
       "      <td>Very very good</td>\n",
       "    </tr>\n",
       "    <tr>\n",
       "      <th>6</th>\n",
       "      <td>5</td>\n",
       "      <td>Fabulous!</td>\n",
       "      <td>Super🔥 and good performance 👌❤️</td>\n",
       "    </tr>\n",
       "    <tr>\n",
       "      <th>7</th>\n",
       "      <td>5</td>\n",
       "      <td>Just wow!</td>\n",
       "      <td>Perfect Product!!</td>\n",
       "    </tr>\n",
       "    <tr>\n",
       "      <th>8</th>\n",
       "      <td>5</td>\n",
       "      <td>Classy product</td>\n",
       "      <td>Photos super</td>\n",
       "    </tr>\n",
       "    <tr>\n",
       "      <th>9</th>\n",
       "      <td>5</td>\n",
       "      <td>Must buy!</td>\n",
       "      <td>It’s really awesome</td>\n",
       "    </tr>\n",
       "    <tr>\n",
       "      <th>10</th>\n",
       "      <td>5</td>\n",
       "      <td>Best in the market!</td>\n",
       "      <td>Good Camera</td>\n",
       "    </tr>\n",
       "    <tr>\n",
       "      <th>11</th>\n",
       "      <td>5</td>\n",
       "      <td>Wonderful</td>\n",
       "      <td>This is amazing at all</td>\n",
       "    </tr>\n",
       "    <tr>\n",
       "      <th>12</th>\n",
       "      <td>5</td>\n",
       "      <td>Worth every penny</td>\n",
       "      <td>Feeling awesome after getting the delivery of ...</td>\n",
       "    </tr>\n",
       "    <tr>\n",
       "      <th>13</th>\n",
       "      <td>5</td>\n",
       "      <td>Must buy!</td>\n",
       "      <td>Go for iPhone 11 , if confused between iPhone ...</td>\n",
       "    </tr>\n",
       "    <tr>\n",
       "      <th>14</th>\n",
       "      <td>5</td>\n",
       "      <td>Classy product</td>\n",
       "      <td>Camera is awesome\\nBest battery backup\\nA perf...</td>\n",
       "    </tr>\n",
       "    <tr>\n",
       "      <th>15</th>\n",
       "      <td>5</td>\n",
       "      <td>Terrific</td>\n",
       "      <td>Very very good</td>\n",
       "    </tr>\n",
       "    <tr>\n",
       "      <th>16</th>\n",
       "      <td>5</td>\n",
       "      <td>Fabulous!</td>\n",
       "      <td>Super🔥 and good performance 👌❤️</td>\n",
       "    </tr>\n",
       "    <tr>\n",
       "      <th>17</th>\n",
       "      <td>5</td>\n",
       "      <td>Just wow!</td>\n",
       "      <td>Perfect Product!!</td>\n",
       "    </tr>\n",
       "    <tr>\n",
       "      <th>18</th>\n",
       "      <td>5</td>\n",
       "      <td>Classy product</td>\n",
       "      <td>Photos super</td>\n",
       "    </tr>\n",
       "    <tr>\n",
       "      <th>19</th>\n",
       "      <td>5</td>\n",
       "      <td>Must buy!</td>\n",
       "      <td>It’s really awesome</td>\n",
       "    </tr>\n",
       "    <tr>\n",
       "      <th>20</th>\n",
       "      <td>5</td>\n",
       "      <td>Best in the market!</td>\n",
       "      <td>Good Camera</td>\n",
       "    </tr>\n",
       "    <tr>\n",
       "      <th>21</th>\n",
       "      <td>5</td>\n",
       "      <td>Wonderful</td>\n",
       "      <td>This is amazing at all</td>\n",
       "    </tr>\n",
       "    <tr>\n",
       "      <th>22</th>\n",
       "      <td>5</td>\n",
       "      <td>Worth every penny</td>\n",
       "      <td>Feeling awesome after getting the delivery of ...</td>\n",
       "    </tr>\n",
       "    <tr>\n",
       "      <th>23</th>\n",
       "      <td>5</td>\n",
       "      <td>Must buy!</td>\n",
       "      <td>Go for iPhone 11 , if confused between iPhone ...</td>\n",
       "    </tr>\n",
       "    <tr>\n",
       "      <th>24</th>\n",
       "      <td>5</td>\n",
       "      <td>Classy product</td>\n",
       "      <td>Camera is awesome\\nBest battery backup\\nA perf...</td>\n",
       "    </tr>\n",
       "    <tr>\n",
       "      <th>25</th>\n",
       "      <td>5</td>\n",
       "      <td>Terrific</td>\n",
       "      <td>Very very good</td>\n",
       "    </tr>\n",
       "    <tr>\n",
       "      <th>26</th>\n",
       "      <td>5</td>\n",
       "      <td>Fabulous!</td>\n",
       "      <td>Super🔥 and good performance 👌❤️</td>\n",
       "    </tr>\n",
       "    <tr>\n",
       "      <th>27</th>\n",
       "      <td>5</td>\n",
       "      <td>Just wow!</td>\n",
       "      <td>Perfect Product!!</td>\n",
       "    </tr>\n",
       "    <tr>\n",
       "      <th>28</th>\n",
       "      <td>5</td>\n",
       "      <td>Classy product</td>\n",
       "      <td>Photos super</td>\n",
       "    </tr>\n",
       "    <tr>\n",
       "      <th>29</th>\n",
       "      <td>5</td>\n",
       "      <td>Must buy!</td>\n",
       "      <td>It’s really awesome</td>\n",
       "    </tr>\n",
       "  </tbody>\n",
       "</table>\n",
       "</div>"
      ],
      "text/plain": [
       "   Rating               Re_sum  \\\n",
       "0       5  Best in the market!   \n",
       "1       5            Wonderful   \n",
       "2       5    Worth every penny   \n",
       "3       5            Must buy!   \n",
       "4       5       Classy product   \n",
       "5       5             Terrific   \n",
       "6       5            Fabulous!   \n",
       "7       5            Just wow!   \n",
       "8       5       Classy product   \n",
       "9       5            Must buy!   \n",
       "10      5  Best in the market!   \n",
       "11      5            Wonderful   \n",
       "12      5    Worth every penny   \n",
       "13      5            Must buy!   \n",
       "14      5       Classy product   \n",
       "15      5             Terrific   \n",
       "16      5            Fabulous!   \n",
       "17      5            Just wow!   \n",
       "18      5       Classy product   \n",
       "19      5            Must buy!   \n",
       "20      5  Best in the market!   \n",
       "21      5            Wonderful   \n",
       "22      5    Worth every penny   \n",
       "23      5            Must buy!   \n",
       "24      5       Classy product   \n",
       "25      5             Terrific   \n",
       "26      5            Fabulous!   \n",
       "27      5            Just wow!   \n",
       "28      5       Classy product   \n",
       "29      5            Must buy!   \n",
       "\n",
       "                                               Fl_sum  \n",
       "0                                         Good Camera  \n",
       "1                              This is amazing at all  \n",
       "2   Feeling awesome after getting the delivery of ...  \n",
       "3   Go for iPhone 11 , if confused between iPhone ...  \n",
       "4   Camera is awesome\\nBest battery backup\\nA perf...  \n",
       "5                                      Very very good  \n",
       "6                     Super🔥 and good performance 👌❤️  \n",
       "7                                   Perfect Product!!  \n",
       "8                                        Photos super  \n",
       "9                                 It’s really awesome  \n",
       "10                                        Good Camera  \n",
       "11                             This is amazing at all  \n",
       "12  Feeling awesome after getting the delivery of ...  \n",
       "13  Go for iPhone 11 , if confused between iPhone ...  \n",
       "14  Camera is awesome\\nBest battery backup\\nA perf...  \n",
       "15                                     Very very good  \n",
       "16                    Super🔥 and good performance 👌❤️  \n",
       "17                                  Perfect Product!!  \n",
       "18                                       Photos super  \n",
       "19                                It’s really awesome  \n",
       "20                                        Good Camera  \n",
       "21                             This is amazing at all  \n",
       "22  Feeling awesome after getting the delivery of ...  \n",
       "23  Go for iPhone 11 , if confused between iPhone ...  \n",
       "24  Camera is awesome\\nBest battery backup\\nA perf...  \n",
       "25                                     Very very good  \n",
       "26                    Super🔥 and good performance 👌❤️  \n",
       "27                                  Perfect Product!!  \n",
       "28                                       Photos super  \n",
       "29                                It’s really awesome  "
      ]
     },
     "execution_count": 23,
     "metadata": {},
     "output_type": "execute_result"
    }
   ],
   "source": [
    "ip"
   ]
  },
  {
   "cell_type": "code",
   "execution_count": null,
   "id": "1a2bca5f",
   "metadata": {},
   "outputs": [],
   "source": [
    "# sneakers"
   ]
  },
  {
   "cell_type": "code",
   "execution_count": 24,
   "id": "b26f1fdf",
   "metadata": {},
   "outputs": [],
   "source": [
    "import  selenium \n",
    "import pandas as pd\n",
    "from selenium import webdriver\n",
    "import warnings\n",
    "warnings.filterwarnings('ignore')\n",
    "from selenium.webdriver.common.by import By\n",
    "import time"
   ]
  },
  {
   "cell_type": "code",
   "execution_count": 25,
   "id": "74a708ec",
   "metadata": {},
   "outputs": [],
   "source": [
    "driver = webdriver.Chrome()"
   ]
  },
  {
   "cell_type": "code",
   "execution_count": 26,
   "id": "5ed3c52b",
   "metadata": {},
   "outputs": [],
   "source": [
    "driver.get(\"https://www.flipkart.com/\")"
   ]
  },
  {
   "cell_type": "code",
   "execution_count": 27,
   "id": "eb99757b",
   "metadata": {},
   "outputs": [
    {
     "data": {
      "text/plain": [
       "<selenium.webdriver.remote.webelement.WebElement (session=\"927e0336cd78d5662bacda771cf70906\", element=\"65996E5034B38D16E51ED4B6C2F7A979_element_1446\")>"
      ]
     },
     "execution_count": 27,
     "metadata": {},
     "output_type": "execute_result"
    }
   ],
   "source": [
    "search_g= driver.find_element(By.XPATH,'//input[@class=\"Pke_EE\"]')\n",
    "search_g"
   ]
  },
  {
   "cell_type": "code",
   "execution_count": 37,
   "id": "6110f38e",
   "metadata": {},
   "outputs": [],
   "source": [
    "search_g.send_keys('sneakers')\n"
   ]
  },
  {
   "cell_type": "code",
   "execution_count": 44,
   "id": "2f35d82b",
   "metadata": {},
   "outputs": [],
   "source": [
    "search_btn=driver.find_element(By.CLASS_NAME,'_2iLD__')\n",
    "search_btn.click()"
   ]
  },
  {
   "cell_type": "code",
   "execution_count": 45,
   "id": "0780e4ac",
   "metadata": {},
   "outputs": [],
   "source": [
    "Brd_name=[]\n",
    "Pd_desc=[]\n",
    "Price=[]"
   ]
  },
  {
   "cell_type": "code",
   "execution_count": 46,
   "id": "5411594f",
   "metadata": {},
   "outputs": [],
   "source": [
    "for i in range(3):\n",
    "    brnd_name=driver.find_elements(By.XPATH,'//div[@class=\"_2WkVRV\"]')\n",
    "    prd_desc=driver.find_elements(By.XPATH,'//a[@class=\"IRpwTa\"]')\n",
    "    price=driver.find_elements(By.XPATH,'//div[@class=\"_30jeq3\"]')\n",
    "    \n",
    "    \n",
    "    for b  in brnd_name:\n",
    "        Brd_name.append(b.text)\n",
    "    Brd_name[:100]    \n",
    "    \n",
    "    \n",
    "    \n",
    "    for d in prd_desc:\n",
    "        Pd_desc.append(d.text)\n",
    "    Pd_desc[:100] \n",
    "    \n",
    "    \n",
    "    for p in price:\n",
    "        Price.append(p.text)\n",
    "    Price[:100] "
   ]
  },
  {
   "cell_type": "code",
   "execution_count": 47,
   "id": "1fe49d4e",
   "metadata": {},
   "outputs": [
    {
     "data": {
      "text/plain": [
       "['HOTSTYLE',\n",
       " 'aadi',\n",
       " 'asian',\n",
       " 'asian',\n",
       " 'U.S. POLO ASSN.',\n",
       " 'kardam&sons',\n",
       " 'BIZDOM',\n",
       " 'RapidBox',\n",
       " 'PUMA',\n",
       " 'kardam&sons',\n",
       " 'Kraasa',\n",
       " 'ATOM',\n",
       " 'kardam&sons',\n",
       " 'Vellinto',\n",
       " 'ADIDAS',\n",
       " 'asian',\n",
       " 'ATOM',\n",
       " 'aadi',\n",
       " 'BIZDOM',\n",
       " 'JACK & JONES',\n",
       " 'ATOM',\n",
       " 'ATOM',\n",
       " 'HRX by Hrithik Roshan',\n",
       " 'RED TAPE',\n",
       " 'ATOM',\n",
       " 'Arivo',\n",
       " 'aadi',\n",
       " 'LIBERTY',\n",
       " 'asian',\n",
       " 'JACK & JONES',\n",
       " 'aadi',\n",
       " 'Bucik',\n",
       " 'asian',\n",
       " 'DUCATI',\n",
       " 'BIZDOM',\n",
       " 'RED TAPE',\n",
       " 'aadi',\n",
       " 'LIBERTY',\n",
       " 'asian',\n",
       " 'Airson',\n",
       " 'HOTSTYLE',\n",
       " 'aadi',\n",
       " 'asian',\n",
       " 'asian',\n",
       " 'U.S. POLO ASSN.',\n",
       " 'kardam&sons',\n",
       " 'BIZDOM',\n",
       " 'RapidBox',\n",
       " 'PUMA',\n",
       " 'kardam&sons',\n",
       " 'Kraasa',\n",
       " 'ATOM',\n",
       " 'kardam&sons',\n",
       " 'Vellinto',\n",
       " 'ADIDAS',\n",
       " 'asian',\n",
       " 'ATOM',\n",
       " 'aadi',\n",
       " 'BIZDOM',\n",
       " 'JACK & JONES',\n",
       " 'ATOM',\n",
       " 'ATOM',\n",
       " 'HRX by Hrithik Roshan',\n",
       " 'RED TAPE',\n",
       " 'ATOM',\n",
       " 'Arivo',\n",
       " 'aadi',\n",
       " 'LIBERTY',\n",
       " 'asian',\n",
       " 'JACK & JONES',\n",
       " 'aadi',\n",
       " 'Bucik',\n",
       " 'asian',\n",
       " 'DUCATI',\n",
       " 'BIZDOM',\n",
       " 'RED TAPE',\n",
       " 'aadi',\n",
       " 'LIBERTY',\n",
       " 'asian',\n",
       " 'Airson',\n",
       " 'HOTSTYLE',\n",
       " 'aadi',\n",
       " 'asian',\n",
       " 'asian',\n",
       " 'U.S. POLO ASSN.',\n",
       " 'kardam&sons',\n",
       " 'BIZDOM',\n",
       " 'RapidBox',\n",
       " 'PUMA',\n",
       " 'kardam&sons',\n",
       " 'Kraasa',\n",
       " 'ATOM',\n",
       " 'kardam&sons',\n",
       " 'Vellinto',\n",
       " 'ADIDAS',\n",
       " 'asian',\n",
       " 'ATOM',\n",
       " 'aadi',\n",
       " 'BIZDOM',\n",
       " 'JACK & JONES']"
      ]
     },
     "execution_count": 47,
     "metadata": {},
     "output_type": "execute_result"
    }
   ],
   "source": [
    "Brd_name[:100]"
   ]
  },
  {
   "cell_type": "code",
   "execution_count": 48,
   "id": "f9fdb48c",
   "metadata": {},
   "outputs": [
    {
     "name": "stdout",
     "output_type": "stream",
     "text": [
      "100\n",
      "100\n",
      "100\n"
     ]
    },
    {
     "data": {
      "text/plain": [
       "(None, None, None)"
      ]
     },
     "execution_count": 48,
     "metadata": {},
     "output_type": "execute_result"
    }
   ],
   "source": [
    "print(len(Brd_name[:100])),print(len(Pd_desc[:100])),print(len(Price[:100]))"
   ]
  },
  {
   "cell_type": "code",
   "execution_count": 49,
   "id": "3b6d80f9",
   "metadata": {},
   "outputs": [],
   "source": [
    "sn=pd.DataFrame({})\n",
    "sn['Brand_name']=Brd_name[:100]\n",
    "sn['Product_Description']=Pd_desc[:100]\n",
    "sn['Price']=Price[:100]"
   ]
  },
  {
   "cell_type": "code",
   "execution_count": 50,
   "id": "98b2ba6c",
   "metadata": {},
   "outputs": [
    {
     "data": {
      "text/html": [
       "<div>\n",
       "<style scoped>\n",
       "    .dataframe tbody tr th:only-of-type {\n",
       "        vertical-align: middle;\n",
       "    }\n",
       "\n",
       "    .dataframe tbody tr th {\n",
       "        vertical-align: top;\n",
       "    }\n",
       "\n",
       "    .dataframe thead th {\n",
       "        text-align: right;\n",
       "    }\n",
       "</style>\n",
       "<table border=\"1\" class=\"dataframe\">\n",
       "  <thead>\n",
       "    <tr style=\"text-align: right;\">\n",
       "      <th></th>\n",
       "      <th>Brand_name</th>\n",
       "      <th>Product_Description</th>\n",
       "      <th>Price</th>\n",
       "    </tr>\n",
       "  </thead>\n",
       "  <tbody>\n",
       "    <tr>\n",
       "      <th>0</th>\n",
       "      <td>HOTSTYLE</td>\n",
       "      <td>Sneakers For Men</td>\n",
       "      <td>₹398</td>\n",
       "    </tr>\n",
       "    <tr>\n",
       "      <th>1</th>\n",
       "      <td>aadi</td>\n",
       "      <td>Mesh |Lightweight|Comfort|Summer|Trendy|Walkin...</td>\n",
       "      <td>₹398</td>\n",
       "    </tr>\n",
       "    <tr>\n",
       "      <th>2</th>\n",
       "      <td>asian</td>\n",
       "      <td>Sneakers For Men</td>\n",
       "      <td>₹822</td>\n",
       "    </tr>\n",
       "    <tr>\n",
       "      <th>3</th>\n",
       "      <td>asian</td>\n",
       "      <td>Sneakers For Men</td>\n",
       "      <td>₹622</td>\n",
       "    </tr>\n",
       "    <tr>\n",
       "      <th>4</th>\n",
       "      <td>U.S. POLO ASSN.</td>\n",
       "      <td>CLARKIN Sneakers For Men</td>\n",
       "      <td>₹1,558</td>\n",
       "    </tr>\n",
       "    <tr>\n",
       "      <th>...</th>\n",
       "      <td>...</td>\n",
       "      <td>...</td>\n",
       "      <td>...</td>\n",
       "    </tr>\n",
       "    <tr>\n",
       "      <th>95</th>\n",
       "      <td>asian</td>\n",
       "      <td>Lightweight,Comfort,Summer,Trendy,Walking,Outd...</td>\n",
       "      <td>₹622</td>\n",
       "    </tr>\n",
       "    <tr>\n",
       "      <th>96</th>\n",
       "      <td>ATOM</td>\n",
       "      <td>FLURIAS-1E Sneakers For Men</td>\n",
       "      <td>₹1,585</td>\n",
       "    </tr>\n",
       "    <tr>\n",
       "      <th>97</th>\n",
       "      <td>aadi</td>\n",
       "      <td>Skypee-32 Grey Highneck Canvas,Loafers,Walking...</td>\n",
       "      <td>₹279</td>\n",
       "    </tr>\n",
       "    <tr>\n",
       "      <th>98</th>\n",
       "      <td>BIZDOM</td>\n",
       "      <td>Sneakers For Men</td>\n",
       "      <td>₹499</td>\n",
       "    </tr>\n",
       "    <tr>\n",
       "      <th>99</th>\n",
       "      <td>JACK &amp; JONES</td>\n",
       "      <td>Lightweight,Comfort,Summer,Trendy,Walking,Outd...</td>\n",
       "      <td>₹749</td>\n",
       "    </tr>\n",
       "  </tbody>\n",
       "</table>\n",
       "<p>100 rows × 3 columns</p>\n",
       "</div>"
      ],
      "text/plain": [
       "         Brand_name                                Product_Description   Price\n",
       "0          HOTSTYLE                                   Sneakers For Men    ₹398\n",
       "1              aadi  Mesh |Lightweight|Comfort|Summer|Trendy|Walkin...    ₹398\n",
       "2             asian                                   Sneakers For Men    ₹822\n",
       "3             asian                                   Sneakers For Men    ₹622\n",
       "4   U.S. POLO ASSN.                           CLARKIN Sneakers For Men  ₹1,558\n",
       "..              ...                                                ...     ...\n",
       "95            asian  Lightweight,Comfort,Summer,Trendy,Walking,Outd...    ₹622\n",
       "96             ATOM                        FLURIAS-1E Sneakers For Men  ₹1,585\n",
       "97             aadi  Skypee-32 Grey Highneck Canvas,Loafers,Walking...    ₹279\n",
       "98           BIZDOM                                   Sneakers For Men    ₹499\n",
       "99     JACK & JONES  Lightweight,Comfort,Summer,Trendy,Walking,Outd...    ₹749\n",
       "\n",
       "[100 rows x 3 columns]"
      ]
     },
     "execution_count": 50,
     "metadata": {},
     "output_type": "execute_result"
    }
   ],
   "source": [
    "sn"
   ]
  },
  {
   "cell_type": "code",
   "execution_count": null,
   "id": "07db10f5",
   "metadata": {},
   "outputs": [],
   "source": []
  }
 ],
 "metadata": {
  "kernelspec": {
   "display_name": "Python 3 (ipykernel)",
   "language": "python",
   "name": "python3"
  },
  "language_info": {
   "codemirror_mode": {
    "name": "ipython",
    "version": 3
   },
   "file_extension": ".py",
   "mimetype": "text/x-python",
   "name": "python",
   "nbconvert_exporter": "python",
   "pygments_lexer": "ipython3",
   "version": "3.11.4"
  }
 },
 "nbformat": 4,
 "nbformat_minor": 5
}
